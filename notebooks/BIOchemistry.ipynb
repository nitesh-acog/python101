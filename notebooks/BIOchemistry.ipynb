{
 "cells": [
  {
   "cell_type": "code",
   "execution_count": null,
   "id": "0e11dd22",
   "metadata": {},
   "outputs": [],
   "source": []
  }
 ],
 "metadata": {
  "kernelspec": {
   "display_name": "env",
   "language": "python",
   "name": "python3"
  },
  "language_info": {
   "codemirror_mode": {
    "name": "ipython",
    "version": 3
   },
   "file_extension": ".py",
   "mimetype": "text/x-python",
   "name": "python",
   "nbconvert_exporter": "python",
   "pygments_lexer": "ipython3",
   "version": "3.11.0 (main, Dec 13 2022, 17:46:23) [Clang 14.0.0 (clang-1400.0.29.201)]"
  },
  "vscode": {
   "interpreter": {
    "hash": "7450dd1f1e2433d7dfa84ea6ffd24fd7e6cded07e5e4e5d40c5302252f63f78a"
   }
  }
 },
 "nbformat": 4,
 "nbformat_minor": 5
}
