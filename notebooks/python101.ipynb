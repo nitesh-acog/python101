{
 "cells": [
  {
   "cell_type": "code",
   "execution_count": 1,
   "id": "15a946eb",
   "metadata": {},
   "outputs": [],
   "source": [
    "# High level programming language with dynamic symantics\n",
    "# supports both scripting and oops\n",
    "# everything in. python is a object\n",
    "# when you create variable you are creating some instance of class\n"
   ]
  },
  {
   "cell_type": "code",
   "execution_count": 2,
   "id": "64dd0ca9",
   "metadata": {},
   "outputs": [],
   "source": [
    "# we have two indexes setup when installing python packages\n",
    "# one with company and a public available one\n"
   ]
  },
  {
   "cell_type": "code",
   "execution_count": 3,
   "id": "9bb06c36",
   "metadata": {},
   "outputs": [],
   "source": [
    "# GIL\n",
    "# dynamically typed\n",
    "# Interpretable\n"
   ]
  },
  {
   "cell_type": "code",
   "execution_count": null,
   "id": "48f86379",
   "metadata": {},
   "outputs": [],
   "source": []
  }
 ],
 "metadata": {
  "kernelspec": {
   "display_name": "Python 3 (ipykernel)",
   "language": "python",
   "name": "python3"
  },
  "language_info": {
   "codemirror_mode": {
    "name": "ipython",
    "version": 3
   },
   "file_extension": ".py",
   "mimetype": "text/x-python",
   "name": "python",
   "nbconvert_exporter": "python",
   "pygments_lexer": "ipython3",
   "version": "3.11.0"
  }
 },
 "nbformat": 4,
 "nbformat_minor": 5
}
