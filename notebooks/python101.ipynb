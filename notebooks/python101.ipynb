{
 "cells": [
  {
   "cell_type": "code",
   "execution_count": 1,
   "id": "29b15f7c",
   "metadata": {},
   "outputs": [],
   "source": [
    "# High level programming language with dynamic symantics\n",
    "# supports both scripting and oops\n",
    "# everything in. python is a object\n",
    "# when you create variable you are creating some instance of class\n"
   ]
  },
  {
   "cell_type": "code",
   "execution_count": 2,
   "id": "dbd0048c",
   "metadata": {},
   "outputs": [],
   "source": [
    "# we have two indexes setup when installing python packages\n",
    "# one with company and a public available one\n"
   ]
  },
  {
   "cell_type": "code",
   "execution_count": 3,
   "id": "f2017a65",
   "metadata": {},
   "outputs": [],
   "source": [
    "# GIL\n",
    "# dynamically typed\n",
    "# Interpretable\n"
   ]
  },
  {
   "cell_type": "markdown",
   "id": "8536b90c",
   "metadata": {},
   "source": [
    "Optional[...] is a shorthand notation for Union[..., None], telling the type checker that either an object of the specific type is required, or None is required. ... stands for any valid type hint, including complex compound types or a Union[] of more types. Whenever you have a keyword argument with default value None, you should use Optional. (Note: If you are targeting Python 3.10 or newer, PEP 604 introduced a better syntax, see below).\n",
    "\n",
    "So for your two examples, you have dict and list container types, but the default value for the a keyword argument shows that None is permitted too so use Optional[...]:"
   ]
  },
  {
   "cell_type": "code",
   "execution_count": 6,
   "id": "b73c13e6",
   "metadata": {},
   "outputs": [],
   "source": [
    "from typing import Optional\n",
    "\n",
    "def test(a: Optional[dict] = None) -> None:\n",
    "    #print(a) ==> {'a': 1234}\n",
    "    #or\n",
    "    print(a)\n",
    "\n",
    "def test(a: Optional[list] = None) -> None:\n",
    "    #print(a) ==> [1, 2, 3, 4, 'a', 'b']\n",
    "    #or\n",
    "    print(a)"
   ]
  },
  {
   "cell_type": "code",
   "execution_count": 7,
   "id": "b2912455",
   "metadata": {},
   "outputs": [],
   "source": [
    "# Namespaces in python are inmpleted using hashmaps\n",
    "# or say python dict\n",
    "# Two keywords that came into picture with scopes is \n",
    "# nonlocal\n",
    "#global\n"
   ]
  },
  {
   "cell_type": "code",
   "execution_count": 8,
   "id": "53e9aa66",
   "metadata": {},
   "outputs": [],
   "source": [
    "# A namespace is a mapping from names to objects.\n",
    "\n",
    "# So lets take an example for this\n",
    "\n",
    "my_name='Nitesh'"
   ]
  },
  {
   "cell_type": "code",
   "execution_count": 9,
   "id": "45f4994b",
   "metadata": {},
   "outputs": [],
   "source": [
    "# Using id() function\n",
    "# Using addressof() function\n",
    "# Using hex() function"
   ]
  },
  {
   "cell_type": "code",
   "execution_count": 12,
   "id": "55f65199",
   "metadata": {},
   "outputs": [
    {
     "data": {
      "text/plain": [
       "'0x1072cb270'"
      ]
     },
     "execution_count": 12,
     "metadata": {},
     "output_type": "execute_result"
    }
   ],
   "source": [
    "hex(id(my_name))"
   ]
  },
  {
   "cell_type": "code",
   "execution_count": 15,
   "id": "0614cc3b",
   "metadata": {},
   "outputs": [
    {
     "data": {
      "text/plain": [
       "4754844058827023851"
      ]
     },
     "execution_count": 15,
     "metadata": {},
     "output_type": "execute_result"
    }
   ],
   "source": [
    "hash(my_name)\n",
    "# pytohn hash function uses MD5 Hashing Algorithm"
   ]
  },
  {
   "cell_type": "markdown",
   "id": "0ae70014",
   "metadata": {},
   "source": [
    "As Tim Peters suggests, namespaces aren’t just great. They’re honking great, and Python uses them extensively. In a Python program, there are four types of namespaces:\n",
    "\n",
    "+ Built-In\n",
    "+ Global\n",
    "+ Enclosing\n",
    "+ Local\n",
    "\n",
    "* These have differing lifetimes. As Python executes a program, it creates namespaces as necessary and deletes them when they’re no longer needed. Typically, many namespaces will exist at any given time."
   ]
  },
  {
   "cell_type": "code",
   "execution_count": 16,
   "id": "e673f025",
   "metadata": {},
   "outputs": [
    {
     "data": {
      "text/plain": [
       "<function __main__.test(a: Optional[list] = None) -> None>"
      ]
     },
     "execution_count": 16,
     "metadata": {},
     "output_type": "execute_result"
    }
   ],
   "source": [
    "test"
   ]
  },
  {
   "cell_type": "code",
   "execution_count": 18,
   "id": "d8707f26",
   "metadata": {},
   "outputs": [],
   "source": [
    "# functions in python are first class objects\n",
    "# in other words one can use functions like any other objects in python"
   ]
  },
  {
   "cell_type": "markdown",
   "id": "991f7afa",
   "metadata": {},
   "source": [
    "Examples of namespaces are: the set of built-in names (containing functions such as abs(), and built-in exception names); the global names in a module; and the local names in a function invocation. In a sense the set of attributes of an object also form a namespace. The important thing to know about namespaces is that there is absolutely no relation between names in different namespaces; for instance, two different modules may both define a function maximize without confusion — users of the modules must prefix it with the module name."
   ]
  },
  {
   "cell_type": "code",
   "execution_count": 19,
   "id": "de65c2c9",
   "metadata": {},
   "outputs": [],
   "source": [
    "# the below example shows a great example for scopes in python"
   ]
  },
  {
   "cell_type": "code",
   "execution_count": 20,
   "id": "2ab4a1d0",
   "metadata": {},
   "outputs": [
    {
     "name": "stdout",
     "output_type": "stream",
     "text": [
      "After local assignment: test spam\n",
      "After nonlocal assignment: nonlocal spam\n",
      "After global assignment: nonlocal spam\n",
      "In global scope: global spam\n"
     ]
    }
   ],
   "source": [
    "def scope_test():\n",
    "    def do_local():\n",
    "        spam = \"local spam\"\n",
    "\n",
    "    def do_nonlocal():\n",
    "        nonlocal spam\n",
    "        spam = \"nonlocal spam\"\n",
    "\n",
    "    def do_global():\n",
    "        global spam\n",
    "        spam = \"global spam\"\n",
    "\n",
    "    spam = \"test spam\"\n",
    "    do_local()\n",
    "    print(\"After local assignment:\", spam)\n",
    "    do_nonlocal()\n",
    "    print(\"After nonlocal assignment:\", spam)\n",
    "    do_global()\n",
    "    print(\"After global assignment:\", spam)\n",
    "\n",
    "scope_test()\n",
    "print(\"In global scope:\", spam)"
   ]
  },
  {
   "cell_type": "code",
   "execution_count": 21,
   "id": "d509adeb",
   "metadata": {},
   "outputs": [],
   "source": [
    "# OOPS\n",
    "# Object oriented programming"
   ]
  },
  {
   "cell_type": "code",
   "execution_count": 22,
   "id": "400d4c10",
   "metadata": {},
   "outputs": [],
   "source": [
    "# Repeating again \n",
    "# eveything in python is an object"
   ]
  },
  {
   "cell_type": "code",
   "execution_count": 24,
   "id": "67d1a8c8",
   "metadata": {},
   "outputs": [],
   "source": [
    "# defining Class\n",
    "# class is a blueprint for any object that needs to created\n",
    "# And a object is a instance of that class\n"
   ]
  },
  {
   "cell_type": "code",
   "execution_count": 25,
   "id": "1cf512ef",
   "metadata": {},
   "outputs": [],
   "source": [
    "# After python3.6 classes can be written as "
   ]
  },
  {
   "cell_type": "code",
   "execution_count": 30,
   "id": "fe2b254f",
   "metadata": {},
   "outputs": [],
   "source": [
    "class Animal:\n",
    "    def __init__(self,name:str='Dog')->None:\n",
    "        self._name=name\n",
    "        self.__name=name+' private_variable'"
   ]
  },
  {
   "cell_type": "code",
   "execution_count": 31,
   "id": "96727228",
   "metadata": {},
   "outputs": [],
   "source": [
    "a1=Animal('Lion')"
   ]
  },
  {
   "cell_type": "code",
   "execution_count": 32,
   "id": "924ee8ed",
   "metadata": {},
   "outputs": [
    {
     "ename": "AttributeError",
     "evalue": "'Animal' object has no attribute 'name'",
     "output_type": "error",
     "traceback": [
      "\u001b[0;31m---------------------------------------------------------------------------\u001b[0m",
      "\u001b[0;31mAttributeError\u001b[0m                            Traceback (most recent call last)",
      "Cell \u001b[0;32mIn[32], line 1\u001b[0m\n\u001b[0;32m----> 1\u001b[0m \u001b[43ma1\u001b[49m\u001b[38;5;241;43m.\u001b[39;49m\u001b[43mname\u001b[49m\n",
      "\u001b[0;31mAttributeError\u001b[0m: 'Animal' object has no attribute 'name'"
     ]
    }
   ],
   "source": [
    "a1.name"
   ]
  },
  {
   "cell_type": "code",
   "execution_count": 33,
   "id": "4d4aa0bb",
   "metadata": {},
   "outputs": [
    {
     "data": {
      "text/plain": [
       "'Lion'"
      ]
     },
     "execution_count": 33,
     "metadata": {},
     "output_type": "execute_result"
    }
   ],
   "source": [
    "a1._name"
   ]
  },
  {
   "cell_type": "code",
   "execution_count": 34,
   "id": "f778a4b9",
   "metadata": {},
   "outputs": [
    {
     "ename": "AttributeError",
     "evalue": "'Animal' object has no attribute '__name'",
     "output_type": "error",
     "traceback": [
      "\u001b[0;31m---------------------------------------------------------------------------\u001b[0m",
      "\u001b[0;31mAttributeError\u001b[0m                            Traceback (most recent call last)",
      "Cell \u001b[0;32mIn[34], line 1\u001b[0m\n\u001b[0;32m----> 1\u001b[0m \u001b[43ma1\u001b[49m\u001b[38;5;241;43m.\u001b[39;49m\u001b[43m__name\u001b[49m\n",
      "\u001b[0;31mAttributeError\u001b[0m: 'Animal' object has no attribute '__name'"
     ]
    }
   ],
   "source": [
    "a1.__name"
   ]
  },
  {
   "cell_type": "markdown",
   "id": "f4517dd1",
   "metadata": {},
   "source": [
    "there is no concept of encapsulation with python as all varibles within a class or can be accesed by any class or any subclass"
   ]
  },
  {
   "cell_type": "code",
   "execution_count": 38,
   "id": "6ca7feef",
   "metadata": {},
   "outputs": [],
   "source": [
    "# private varibales \n",
    "# can only be accessed within a class\n",
    "# protected variables \n",
    "# can be accsed by subclasses "
   ]
  },
  {
   "cell_type": "code",
   "execution_count": 39,
   "id": "65b9c405",
   "metadata": {},
   "outputs": [],
   "source": [
    "# private variables are written as __variableName\n",
    "# protected variables are written as _variableName"
   ]
  },
  {
   "cell_type": "code",
   "execution_count": 40,
   "id": "326cfca3",
   "metadata": {},
   "outputs": [
    {
     "data": {
      "text/plain": [
       "['ArithmeticError',\n",
       " 'AssertionError',\n",
       " 'AttributeError',\n",
       " 'BaseException',\n",
       " 'BaseExceptionGroup',\n",
       " 'BlockingIOError',\n",
       " 'BrokenPipeError',\n",
       " 'BufferError',\n",
       " 'BytesWarning',\n",
       " 'ChildProcessError',\n",
       " 'ConnectionAbortedError',\n",
       " 'ConnectionError',\n",
       " 'ConnectionRefusedError',\n",
       " 'ConnectionResetError',\n",
       " 'DeprecationWarning',\n",
       " 'EOFError',\n",
       " 'Ellipsis',\n",
       " 'EncodingWarning',\n",
       " 'EnvironmentError',\n",
       " 'Exception',\n",
       " 'ExceptionGroup',\n",
       " 'False',\n",
       " 'FileExistsError',\n",
       " 'FileNotFoundError',\n",
       " 'FloatingPointError',\n",
       " 'FutureWarning',\n",
       " 'GeneratorExit',\n",
       " 'IOError',\n",
       " 'ImportError',\n",
       " 'ImportWarning',\n",
       " 'IndentationError',\n",
       " 'IndexError',\n",
       " 'InterruptedError',\n",
       " 'IsADirectoryError',\n",
       " 'KeyError',\n",
       " 'KeyboardInterrupt',\n",
       " 'LookupError',\n",
       " 'MemoryError',\n",
       " 'ModuleNotFoundError',\n",
       " 'NameError',\n",
       " 'None',\n",
       " 'NotADirectoryError',\n",
       " 'NotImplemented',\n",
       " 'NotImplementedError',\n",
       " 'OSError',\n",
       " 'OverflowError',\n",
       " 'PendingDeprecationWarning',\n",
       " 'PermissionError',\n",
       " 'ProcessLookupError',\n",
       " 'RecursionError',\n",
       " 'ReferenceError',\n",
       " 'ResourceWarning',\n",
       " 'RuntimeError',\n",
       " 'RuntimeWarning',\n",
       " 'StopAsyncIteration',\n",
       " 'StopIteration',\n",
       " 'SyntaxError',\n",
       " 'SyntaxWarning',\n",
       " 'SystemError',\n",
       " 'SystemExit',\n",
       " 'TabError',\n",
       " 'TimeoutError',\n",
       " 'True',\n",
       " 'TypeError',\n",
       " 'UnboundLocalError',\n",
       " 'UnicodeDecodeError',\n",
       " 'UnicodeEncodeError',\n",
       " 'UnicodeError',\n",
       " 'UnicodeTranslateError',\n",
       " 'UnicodeWarning',\n",
       " 'UserWarning',\n",
       " 'ValueError',\n",
       " 'Warning',\n",
       " 'ZeroDivisionError',\n",
       " '__IPYTHON__',\n",
       " '__build_class__',\n",
       " '__debug__',\n",
       " '__doc__',\n",
       " '__import__',\n",
       " '__loader__',\n",
       " '__name__',\n",
       " '__package__',\n",
       " '__spec__',\n",
       " 'abs',\n",
       " 'aiter',\n",
       " 'all',\n",
       " 'anext',\n",
       " 'any',\n",
       " 'ascii',\n",
       " 'bin',\n",
       " 'bool',\n",
       " 'breakpoint',\n",
       " 'bytearray',\n",
       " 'bytes',\n",
       " 'callable',\n",
       " 'chr',\n",
       " 'classmethod',\n",
       " 'compile',\n",
       " 'complex',\n",
       " 'copyright',\n",
       " 'credits',\n",
       " 'delattr',\n",
       " 'dict',\n",
       " 'dir',\n",
       " 'display',\n",
       " 'divmod',\n",
       " 'enumerate',\n",
       " 'eval',\n",
       " 'exec',\n",
       " 'execfile',\n",
       " 'filter',\n",
       " 'float',\n",
       " 'format',\n",
       " 'frozenset',\n",
       " 'get_ipython',\n",
       " 'getattr',\n",
       " 'globals',\n",
       " 'hasattr',\n",
       " 'hash',\n",
       " 'help',\n",
       " 'hex',\n",
       " 'id',\n",
       " 'input',\n",
       " 'int',\n",
       " 'isinstance',\n",
       " 'issubclass',\n",
       " 'iter',\n",
       " 'len',\n",
       " 'license',\n",
       " 'list',\n",
       " 'locals',\n",
       " 'map',\n",
       " 'max',\n",
       " 'memoryview',\n",
       " 'min',\n",
       " 'next',\n",
       " 'object',\n",
       " 'oct',\n",
       " 'open',\n",
       " 'ord',\n",
       " 'pow',\n",
       " 'print',\n",
       " 'property',\n",
       " 'range',\n",
       " 'repr',\n",
       " 'reversed',\n",
       " 'round',\n",
       " 'runfile',\n",
       " 'set',\n",
       " 'setattr',\n",
       " 'slice',\n",
       " 'sorted',\n",
       " 'staticmethod',\n",
       " 'str',\n",
       " 'sum',\n",
       " 'super',\n",
       " 'tuple',\n",
       " 'type',\n",
       " 'vars',\n",
       " 'zip']"
      ]
     },
     "execution_count": 40,
     "metadata": {},
     "output_type": "execute_result"
    }
   ],
   "source": [
    "dir(__builtins__)"
   ]
  },
  {
   "cell_type": "code",
   "execution_count": 44,
   "id": "09ee19c4",
   "metadata": {},
   "outputs": [
    {
     "name": "stdout",
     "output_type": "stream",
     "text": [
      "[main 79768a4] had a brief intro to classes and namespaces again with python\n",
      " Committer: Nitesh Kumar Gupta <nitesh@SezazAir2.aganitha.ai>\n",
      "Your name and email address were configured automatically based\n",
      "on your username and hostname. Please check that they are accurate.\n",
      "You can suppress this message by setting them explicitly:\n",
      "\n",
      "    git config --global user.name \"Your Name\"\n",
      "    git config --global user.email you@example.com\n",
      "\n",
      "After doing this, you may fix the identity used for this commit with:\n",
      "\n",
      "    git commit --amend --reset-author\n",
      "\n",
      " 1 file changed, 585 insertions(+), 4 deletions(-)\n"
     ]
    },
    {
     "data": {
      "text/plain": [
       "0"
      ]
     },
     "execution_count": 44,
     "metadata": {},
     "output_type": "execute_result"
    }
   ],
   "source": [
    "import os\n",
    "os.system('git add . && git commit -m \"had a brief intro to classes and namespaces again with python\" ' )"
   ]
  },
  {
   "cell_type": "code",
   "execution_count": 45,
   "id": "b15946d4",
   "metadata": {},
   "outputs": [
    {
     "name": "stdout",
     "output_type": "stream",
     "text": [
      "branch 'main' set up to track 'origin/main'.\n"
     ]
    },
    {
     "name": "stderr",
     "output_type": "stream",
     "text": [
      "To github.com:nitesh-acog/python101.git\n",
      "   5715600..79768a4  main -> main\n"
     ]
    },
    {
     "data": {
      "text/plain": [
       "0"
      ]
     },
     "execution_count": 45,
     "metadata": {},
     "output_type": "execute_result"
    }
   ],
   "source": [
    "os.system('git push -u origin main')"
   ]
  },
  {
   "cell_type": "code",
   "execution_count": 46,
   "id": "68b2a4a6",
   "metadata": {},
   "outputs": [],
   "source": [
    "# Just a reminder namespaces in python are simply mapping from names to objects in memory using hashmaps"
   ]
  },
  {
   "cell_type": "code",
   "execution_count": 60,
   "id": "adf73838",
   "metadata": {},
   "outputs": [],
   "source": [
    "class name:\n",
    "    num=0\n",
    "    def __init__(self):\n",
    "        self.num+=1"
   ]
  },
  {
   "cell_type": "code",
   "execution_count": 61,
   "id": "3042f334",
   "metadata": {},
   "outputs": [],
   "source": [
    "# name variable seen within the above class is called class variable or instance variables\n",
    "# a instance variable can be accessed by all instances of that class\n"
   ]
  },
  {
   "cell_type": "code",
   "execution_count": 62,
   "id": "0dc22e77",
   "metadata": {},
   "outputs": [],
   "source": [
    "n1=name()"
   ]
  },
  {
   "cell_type": "code",
   "execution_count": 63,
   "id": "ad6e3cd7",
   "metadata": {},
   "outputs": [],
   "source": [
    "n2=name()"
   ]
  },
  {
   "cell_type": "code",
   "execution_count": 65,
   "id": "8950143e",
   "metadata": {},
   "outputs": [],
   "source": [
    "class Reverse:\n",
    "    \"\"\"Iterator for looping over a sequence backwards.\"\"\"\n",
    "    def __init__(self, data):\n",
    "        self.data = data\n",
    "        self.index = len(data)\n",
    "\n",
    "    def __iter__(self):\n",
    "        return self\n",
    "\n",
    "    def __next__(self):\n",
    "        if self.index == 0:\n",
    "            raise StopIteration\n",
    "        self.index = self.index - 1\n",
    "        return self.data[self.index]"
   ]
  },
  {
   "cell_type": "code",
   "execution_count": 66,
   "id": "1433e98c",
   "metadata": {},
   "outputs": [],
   "source": [
    "# internally for loop is implemented as iter() and next()\n"
   ]
  },
  {
   "cell_type": "markdown",
   "id": "41d45033",
   "metadata": {},
   "source": [
    "Generators are a simple and powerful tool for creating iterators. They are written like regular functions but use the yield statement whenever they want to return data. Each time next() is called on it, the generator resumes where it left off (it remembers all the data values and which statement was last executed). An example shows that generators can be trivially easy to create:"
   ]
  },
  {
   "cell_type": "code",
   "execution_count": 67,
   "id": "2016a1fe",
   "metadata": {},
   "outputs": [],
   "source": [
    "def reverse(data):\n",
    "    for index in range(len(data)-1, -1, -1):\n",
    "        yield data[index]"
   ]
  },
  {
   "cell_type": "code",
   "execution_count": 68,
   "id": "b177ad44",
   "metadata": {},
   "outputs": [],
   "source": [
    "# Just a reminder \n",
    "# almost any task in prograaming can be bolied down to recursion problem\n"
   ]
  },
  {
   "cell_type": "markdown",
   "id": "440ef5ce",
   "metadata": {},
   "source": [
    "# User Guide for Python Packaging"
   ]
  },
  {
   "cell_type": "code",
   "execution_count": 69,
   "id": "ab392a5e",
   "metadata": {},
   "outputs": [
    {
     "ename": "SyntaxError",
     "evalue": "invalid character '├' (U+251C) (2135175848.py, line 2)",
     "output_type": "error",
     "traceback": [
      "\u001b[0;36m  Cell \u001b[0;32mIn[69], line 2\u001b[0;36m\u001b[0m\n\u001b[0;31m    ├── LICENSE\u001b[0m\n\u001b[0m    ^\u001b[0m\n\u001b[0;31mSyntaxError\u001b[0m\u001b[0;31m:\u001b[0m invalid character '├' (U+251C)\n"
     ]
    }
   ],
   "source": [
    "packaging_tutorial/\n",
    "├── LICENSE\n",
    "├── pyproject.toml\n",
    "├── README.md\n",
    "├── src/\n",
    "│   └── example_package_YOUR_USERNAME_HERE/\n",
    "│       ├── __init__.py\n",
    "│       └── example.py\n",
    "└── tests/"
   ]
  },
  {
   "cell_type": "code",
   "execution_count": 70,
   "id": "bc58129e",
   "metadata": {},
   "outputs": [],
   "source": [
    "# abstract classes form base class | or say they act as templates for classes"
   ]
  },
  {
   "cell_type": "markdown",
   "id": "e146f345",
   "metadata": {},
   "source": [
    "Frameworks expecting callback functions of specific signatures might be type hinted using Callable[[Arg1Type, Arg2Type], ReturnType]."
   ]
  },
  {
   "cell_type": "code",
   "execution_count": 71,
   "id": "eea002aa",
   "metadata": {},
   "outputs": [
    {
     "ename": "IndentationError",
     "evalue": "expected an indented block after function definition on line 3 (4123380205.py, line 6)",
     "output_type": "error",
     "traceback": [
      "\u001b[0;36m  Cell \u001b[0;32mIn[71], line 6\u001b[0;36m\u001b[0m\n\u001b[0;31m    def async_query(on_success: Callable[[int], None],\u001b[0m\n\u001b[0m    ^\u001b[0m\n\u001b[0;31mIndentationError\u001b[0m\u001b[0;31m:\u001b[0m expected an indented block after function definition on line 3\n"
     ]
    }
   ],
   "source": [
    "from collections.abc import Callable\n",
    "\n",
    "def feeder(get_next_item: Callable[[], str]) -> None:\n",
    "    # Body\n",
    "\n",
    "def async_query(on_success: Callable[[int], None],\n",
    "                on_error: Callable[[int, Exception], None]) -> None:\n",
    "    # Body\n",
    "\n",
    "async def on_update(value: str) -> None:\n",
    "    # Body\n",
    "callback: Callable[[str], Awaitable[None]] = on_update"
   ]
  },
  {
   "cell_type": "code",
   "execution_count": 72,
   "id": "6abc8e76",
   "metadata": {},
   "outputs": [],
   "source": [
    "# logging to machines\n",
    "# ssh user@ip \n",
    "# ssh (secure shell)"
   ]
  },
  {
   "cell_type": "code",
   "execution_count": 73,
   "id": "88c11d92",
   "metadata": {},
   "outputs": [],
   "source": [
    "# symmetric key encryption\n",
    "# use the same key for encrytion and decrytion\n",
    "# PKI ( public key infrastructure)\n",
    "# ssh-keygen -t rsa\n",
    "# the above command creates a key using rsa algorithm\n",
    "# hidden dir in home folder\n",
    "# id_rsa.pub is the public key\n",
    "# id_rsa is the private key\n",
    "# ssh -vv user@ip\n",
    "#. verbose\n",
    "# if username is not specified it takes from your home dir user"
   ]
  },
  {
   "cell_type": "code",
   "execution_count": 74,
   "id": "19086222",
   "metadata": {},
   "outputs": [],
   "source": [
    "# LDAP (light weight idrectory authentication protocol)"
   ]
  },
  {
   "cell_type": "code",
   "execution_count": 75,
   "id": "12d2448e",
   "metadata": {},
   "outputs": [],
   "source": [
    "# I need to connect to all the 100 machines in the company copying pub keys to all 100 machines is not feasible\n",
    "# we use LDAP for that"
   ]
  },
  {
   "cell_type": "code",
   "execution_count": 76,
   "id": "42d728be",
   "metadata": {},
   "outputs": [],
   "source": [
    "# same thing we do for github \n",
    "# we can paste a pub_key in github"
   ]
  },
  {
   "cell_type": "code",
   "execution_count": 77,
   "id": "5f0ec91e",
   "metadata": {},
   "outputs": [],
   "source": [
    "# this will be only possible when both server and client have ssh client/tool\n",
    "# a simple task is sent to server encypted with your private key and if  publickey is able to decrypt it it is authenticated"
   ]
  },
  {
   "cell_type": "code",
   "execution_count": 78,
   "id": "1c146e04",
   "metadata": {},
   "outputs": [],
   "source": [
    "# ssl (secure socket layer)\n",
    "# ssh (secure shell) (ssh leverages ssl/tls for connection)\n",
    "# tls ( transport layer security)\n"
   ]
  },
  {
   "cell_type": "code",
   "execution_count": 79,
   "id": "ac1b2d86",
   "metadata": {},
   "outputs": [],
   "source": [
    "# spaces are evil fo command for programmers\n",
    "# write with _ dont give spaces\n",
    "# GNU organization provided a standard and is the author many commands\n",
    "\n",
    "# "
   ]
  },
  {
   "cell_type": "code",
   "execution_count": 80,
   "id": "107df288",
   "metadata": {},
   "outputs": [],
   "source": [
    "# Evrything in linux is a file\n",
    "# shell provides an interface to kernel"
   ]
  },
  {
   "cell_type": "code",
   "execution_count": 81,
   "id": "9c2081fc",
   "metadata": {},
   "outputs": [],
   "source": [
    "# grep --help\n",
    "# eveything in box is optional"
   ]
  },
  {
   "cell_type": "code",
   "execution_count": 82,
   "id": "a4f180ec",
   "metadata": {},
   "outputs": [],
   "source": [
    "# grep keyword file1 file2 > file.txt"
   ]
  },
  {
   "cell_type": "code",
   "execution_count": 83,
   "id": "4aed5b3b",
   "metadata": {},
   "outputs": [],
   "source": [
    "# > overwrite\n",
    "# >> appends\n",
    "# passing the streams in command line to a file\n",
    "# when something is shown on console it flushed from memory"
   ]
  },
  {
   "cell_type": "code",
   "execution_count": 84,
   "id": "d719a0ad",
   "metadata": {},
   "outputs": [],
   "source": [
    "# if a command ends with a '&' , run in background\n"
   ]
  },
  {
   "cell_type": "code",
   "execution_count": 85,
   "id": "6dde3843",
   "metadata": {},
   "outputs": [],
   "source": [
    "# nohup ( no hangup)\n",
    "# nohup command --option \n",
    "# The above is used when using a server\n",
    "# in any case if connection is cut / the command still needs to run / if we dont use nohup connection cut would kill the process"
   ]
  },
  {
   "cell_type": "code",
   "execution_count": 86,
   "id": "20a9a505",
   "metadata": {},
   "outputs": [],
   "source": [
    "# nohup grep pattern file1 file2 & \n",
    "# in this case the stream by default goes to nohup.txt\n"
   ]
  },
  {
   "cell_type": "code",
   "execution_count": 87,
   "id": "8fd6aaf1",
   "metadata": {},
   "outputs": [],
   "source": [
    "# 0: stdin\n",
    "# 1: stdout\n",
    "# 2: stderr\n"
   ]
  },
  {
   "cell_type": "code",
   "execution_count": 90,
   "id": "ac848b18",
   "metadata": {},
   "outputs": [],
   "source": [
    "# 1> redirect stdout \n",
    "# 2> redirect stderr\n",
    "# >> append"
   ]
  },
  {
   "cell_type": "code",
   "execution_count": 96,
   "id": "c15a766e",
   "metadata": {},
   "outputs": [],
   "source": [
    "# grep pattern file1 1> file.txt 2> err.txt\n",
    "# grep pattern file1 1> file.txt 2>&1 (if you want redirect in same file as stdout)"
   ]
  },
  {
   "cell_type": "code",
   "execution_count": 97,
   "id": "ca21ad3c",
   "metadata": {},
   "outputs": [],
   "source": [
    "# type the word env in linux terminal"
   ]
  },
  {
   "cell_type": "code",
   "execution_count": 98,
   "id": "42703624",
   "metadata": {},
   "outputs": [],
   "source": [
    "# an environment in simple terms is a bag of key value pairs"
   ]
  },
  {
   "cell_type": "code",
   "execution_count": 99,
   "id": "54fff7f3",
   "metadata": {},
   "outputs": [],
   "source": [
    "# as seen in terminal"
   ]
  },
  {
   "cell_type": "markdown",
   "id": "024ccc7e",
   "metadata": {},
   "source": [
    "# what can go wrong in linux temirnals\n",
    "# when usign it\n"
   ]
  },
  {
   "cell_type": "code",
   "execution_count": 1,
   "id": "3eb3a7c1",
   "metadata": {},
   "outputs": [],
   "source": [
    "# There are two types of shells \n",
    "# login shells and non-login shells\n",
    "# A shell is something that provides an interface to kernel where one can instruct kernel\n",
    "# Evrything in lnux is a file\n",
    "# so when you run a command in linux it has a path described within to do stuff\n"
   ]
  },
  {
   "cell_type": "code",
   "execution_count": 2,
   "id": "718f7199",
   "metadata": {},
   "outputs": [
    {
     "name": "stdout",
     "output_type": "stream",
     "text": [
      "python101.ipynb\r\n"
     ]
    }
   ],
   "source": [
    "!ls"
   ]
  },
  {
   "cell_type": "code",
   "execution_count": 3,
   "id": "3013a0a4",
   "metadata": {},
   "outputs": [
    {
     "name": "stdout",
     "output_type": "stream",
     "text": [
      "/Users/nitesh/Documents/Projects/python101/env/bin:/Users/nitesh/.atk/bin:/Users/nitesh/.pyenv/shims:/Users/nitesh/homebrew/opt/openjdk/bin:/Users/nitesh/atk/bin:/Users/nitesh/.nvm/versions/node/v18.12.1/bin:/Users/nitesh/homebrew/bin:/Users/nitesh/homebrew/sbin:/usr/local/bin:/usr/bin:/bin:/usr/sbin:/sbin:/Applications/VMware Fusion.app/Contents/Public:/opt/X11/bin:/Users/nitesh/.atk/bin:/Users/nitesh/homebrew/opt/openjdk/bin:/Users/nitesh/atk/bin:/Users/nitesh/.nvm/versions/node/v18.12.1/bin:/Users/nitesh/homebrew/bin:/Users/nitesh/homebrew/sbin\r\n"
     ]
    }
   ],
   "source": [
    "# above we see ls ran and gave a output \n",
    "!echo $PATH"
   ]
  },
  {
   "cell_type": "code",
   "execution_count": 4,
   "id": "8d7dafff",
   "metadata": {},
   "outputs": [],
   "source": [
    "# allow me to define a path in linux\n",
    "#linux is kernel (several distributions are built round this kernel)\n",
    "# PATH is colon separated list of directories\n",
    "# How do we prepend a path\n",
    "# export PATH=/bin/something:$PATH\n",
    "# the above command should be used with when one finds a error with command not found"
   ]
  },
  {
   "cell_type": "code",
   "execution_count": 5,
   "id": "b762efe8",
   "metadata": {},
   "outputs": [],
   "source": [
    "# If you login as a user in any shell it is login shell /.bash_profile sources all commands in it before log in as user"
   ]
  },
  {
   "cell_type": "code",
   "execution_count": 6,
   "id": "19537383",
   "metadata": {},
   "outputs": [],
   "source": [
    "# type in bash and one will see a shell without any user assigned to it\n",
    "# such shells are non-login shells\n",
    "# .bashrc is the one that sources all the commands before login in a non-login shell"
   ]
  },
  {
   "cell_type": "code",
   "execution_count": 7,
   "id": "d956aebd",
   "metadata": {},
   "outputs": [
    {
     "name": "stdout",
     "output_type": "stream",
     "text": [
      "\n",
      "The default interactive shell is now zsh.\n",
      "To update your account to use zsh, please run `chsh -s /bin/zsh`.\n",
      "For more details, please visit https://support.apple.com/kb/HT208050.\n",
      "(env) %n@%m %1~ %# \n",
      "(env) %n@%m %1~ %# \n",
      "(env) %n@%m %1~ %# "
     ]
    }
   ],
   "source": [
    "# !bash"
   ]
  },
  {
   "cell_type": "code",
   "execution_count": 9,
   "id": "cebe8a3f",
   "metadata": {},
   "outputs": [],
   "source": [
    "# !top"
   ]
  },
  {
   "cell_type": "code",
   "execution_count": 10,
   "id": "d172cc82",
   "metadata": {},
   "outputs": [],
   "source": [
    "# dont run dynamic commads in notebook"
   ]
  },
  {
   "cell_type": "code",
   "execution_count": 11,
   "id": "64bf06c9",
   "metadata": {},
   "outputs": [],
   "source": [
    "# one of the most importtant env variable is PATH"
   ]
  },
  {
   "cell_type": "code",
   "execution_count": 13,
   "id": "27b5ad43",
   "metadata": {},
   "outputs": [
    {
     "name": "stdout",
     "output_type": "stream",
     "text": [
      "zsh:1: no such file or directory: /Users/nitesh/Documents/Projects/python101/env/bin:/Users/nitesh/.atk/bin:/Users/nitesh/.pyenv/shims:/Users/nitesh/homebrew/opt/openjdk/bin:/Users/nitesh/atk/bin:/Users/nitesh/.nvm/versions/node/v18.12.1/bin:/Users/nitesh/homebrew/bin:/Users/nitesh/homebrew/sbin:/usr/local/bin:/usr/bin:/bin:/usr/sbin:/sbin:/Applications/VMware Fusion.app/Contents/Public:/opt/X11/bin:/Users/nitesh/.atk/bin:/Users/nitesh/homebrew/opt/openjdk/bin:/Users/nitesh/atk/bin:/Users/nitesh/.nvm/versions/node/v18.12.1/bin:/Users/nitesh/homebrew/bin:/Users/nitesh/homebrew/sbin\r\n"
     ]
    }
   ],
   "source": [
    "!$PATH"
   ]
  },
  {
   "cell_type": "code",
   "execution_count": 14,
   "id": "b10c4194",
   "metadata": {},
   "outputs": [],
   "source": [
    "# Whenever one finds a error with command not found one should check for neccesary PATH has been set for that executable file"
   ]
  },
  {
   "cell_type": "code",
   "execution_count": 15,
   "id": "b5881d37",
   "metadata": {},
   "outputs": [],
   "source": [
    "# for example conda\n"
   ]
  },
  {
   "cell_type": "code",
   "execution_count": 17,
   "id": "ae3e2709",
   "metadata": {},
   "outputs": [
    {
     "name": "stdout",
     "output_type": "stream",
     "text": [
      "/Users/nitesh/Documents/Projects/python101/env/bin:/Users/nitesh/.atk/bin:/Users/nitesh/.pyenv/shims:/Users/nitesh/homebrew/opt/openjdk/bin:/Users/nitesh/atk/bin:/Users/nitesh/.nvm/versions/node/v18.12.1/bin:/Users/nitesh/homebrew/bin:/Users/nitesh/homebrew/sbin:/usr/local/bin:/usr/bin:/bin:/usr/sbin:/sbin:/Applications/VMware Fusion.app/Contents/Public:/opt/X11/bin:/Users/nitesh/.atk/bin:/Users/nitesh/homebrew/opt/openjdk/bin:/Users/nitesh/atk/bin:/Users/nitesh/.nvm/versions/node/v18.12.1/bin:/Users/nitesh/homebrew/bin:/Users/nitesh/homebrew/sbin\r\n"
     ]
    }
   ],
   "source": [
    "!echo $PATH\n"
   ]
  },
  {
   "cell_type": "code",
   "execution_count": 22,
   "id": "65adadaa",
   "metadata": {},
   "outputs": [
    {
     "name": "stdout",
     "output_type": "stream",
     "text": [
      "find: conda: No such file or directory\r\n"
     ]
    }
   ],
   "source": [
    "!find conda\n"
   ]
  },
  {
   "cell_type": "code",
   "execution_count": 26,
   "id": "29e73a59",
   "metadata": {},
   "outputs": [],
   "source": [
    "def run_er(num: int )-> int:\n",
    "    \n",
    "    '''\n",
    "    it just return number 7\n",
    "    \n",
    "    '''\n",
    "    return 7"
   ]
  },
  {
   "cell_type": "code",
   "execution_count": 27,
   "id": "c55ae3f9",
   "metadata": {},
   "outputs": [
    {
     "data": {
      "text/plain": [
       "'\\n    it just return number 7\\n    \\n    '"
      ]
     },
     "execution_count": 27,
     "metadata": {},
     "output_type": "execute_result"
    }
   ],
   "source": [
    "run_er.__doc__"
   ]
  },
  {
   "cell_type": "code",
   "execution_count": 28,
   "id": "41889fa4",
   "metadata": {},
   "outputs": [
    {
     "data": {
      "text/plain": [
       "['__annotations__',\n",
       " '__builtins__',\n",
       " '__call__',\n",
       " '__class__',\n",
       " '__closure__',\n",
       " '__code__',\n",
       " '__defaults__',\n",
       " '__delattr__',\n",
       " '__dict__',\n",
       " '__dir__',\n",
       " '__doc__',\n",
       " '__eq__',\n",
       " '__format__',\n",
       " '__ge__',\n",
       " '__get__',\n",
       " '__getattribute__',\n",
       " '__getstate__',\n",
       " '__globals__',\n",
       " '__gt__',\n",
       " '__hash__',\n",
       " '__init__',\n",
       " '__init_subclass__',\n",
       " '__kwdefaults__',\n",
       " '__le__',\n",
       " '__lt__',\n",
       " '__module__',\n",
       " '__name__',\n",
       " '__ne__',\n",
       " '__new__',\n",
       " '__qualname__',\n",
       " '__reduce__',\n",
       " '__reduce_ex__',\n",
       " '__repr__',\n",
       " '__setattr__',\n",
       " '__sizeof__',\n",
       " '__str__',\n",
       " '__subclasshook__']"
      ]
     },
     "execution_count": 28,
     "metadata": {},
     "output_type": "execute_result"
    }
   ],
   "source": [
    "dir(run_er)"
   ]
  },
  {
   "cell_type": "code",
   "execution_count": 29,
   "id": "1efddeb6",
   "metadata": {},
   "outputs": [],
   "source": [
    "import dis"
   ]
  },
  {
   "cell_type": "code",
   "execution_count": 30,
   "id": "5346904d",
   "metadata": {},
   "outputs": [
    {
     "name": "stdout",
     "output_type": "stream",
     "text": [
      "  1           0 RESUME                   0\n",
      "\n",
      "  7           2 LOAD_CONST               1 (7)\n",
      "              4 RETURN_VALUE\n"
     ]
    }
   ],
   "source": [
    "dis.dis(run_er)"
   ]
  },
  {
   "cell_type": "code",
   "execution_count": 31,
   "id": "ef5e31e8",
   "metadata": {},
   "outputs": [],
   "source": [
    "import typer"
   ]
  },
  {
   "cell_type": "code",
   "execution_count": 32,
   "id": "0f8b63ca",
   "metadata": {},
   "outputs": [],
   "source": [
    "# decorators "
   ]
  },
  {
   "cell_type": "code",
   "execution_count": 33,
   "id": "de580292",
   "metadata": {},
   "outputs": [],
   "source": [
    "import time"
   ]
  },
  {
   "cell_type": "code",
   "execution_count": 47,
   "id": "f99a184a",
   "metadata": {},
   "outputs": [],
   "source": [
    "def timer(func):\n",
    "    \n",
    "    def get_time_for_execution(*args,**kwargs):\n",
    "        start=time.time()\n",
    "        func(*args,**kwargs)\n",
    "        exec_time=start-time.time()\n",
    "        return exec_time\n",
    "    return get_time_for_execution\n"
   ]
  },
  {
   "cell_type": "code",
   "execution_count": 53,
   "id": "bab04f4e",
   "metadata": {},
   "outputs": [],
   "source": [
    "@timer\n",
    "@timer\n",
    "def count(num):\n",
    "    n=0\n",
    "    for _ in range(num):\n",
    "        n+=1\n",
    "    "
   ]
  },
  {
   "cell_type": "code",
   "execution_count": 55,
   "id": "bd99c956",
   "metadata": {},
   "outputs": [
    {
     "data": {
      "text/plain": [
       "-0.00019311904907226562"
      ]
     },
     "execution_count": 55,
     "metadata": {},
     "output_type": "execute_result"
    }
   ],
   "source": [
    "count(8)\n"
   ]
  },
  {
   "cell_type": "code",
   "execution_count": 1,
   "id": "980ccfcc",
   "metadata": {},
   "outputs": [],
   "source": [
    "# types of shell\n",
    "# bourne shell\n",
    "# bourne again shell\n",
    "# c Shell\n"
   ]
  },
  {
   "cell_type": "code",
   "execution_count": 2,
   "id": "62de5802",
   "metadata": {},
   "outputs": [],
   "source": [
    "# GNU created evrything from scratch and also made the Bash and entire source code open source"
   ]
  },
  {
   "cell_type": "code",
   "execution_count": 3,
   "id": "043df1ef",
   "metadata": {},
   "outputs": [],
   "source": [
    "# Free or any open Source sofware can never be made propieratiry"
   ]
  },
  {
   "cell_type": "code",
   "execution_count": 4,
   "id": "9d8c8eab",
   "metadata": {},
   "outputs": [],
   "source": [
    "# Source ~/.zshrc (before loggiing in)"
   ]
  },
  {
   "cell_type": "code",
   "execution_count": 5,
   "id": "3094b460",
   "metadata": {},
   "outputs": [],
   "source": [
    "# want to know where is the command binary\n",
    "# which the one needed to be used"
   ]
  },
  {
   "cell_type": "code",
   "execution_count": 6,
   "id": "edf50b00",
   "metadata": {},
   "outputs": [
    {
     "name": "stdout",
     "output_type": "stream",
     "text": [
      "/Users/nitesh/Documents/Projects/python101/env/bin/python\r\n"
     ]
    }
   ],
   "source": [
    "!which python"
   ]
  },
  {
   "cell_type": "code",
   "execution_count": 7,
   "id": "ad8d4a44",
   "metadata": {},
   "outputs": [],
   "source": [
    "# all downloads and installs for a user are in ~/opt/"
   ]
  },
  {
   "cell_type": "code",
   "execution_count": 8,
   "id": "62236ee9",
   "metadata": {},
   "outputs": [],
   "source": [
    "# prepending conda to path\n",
    "# # export PATH=~/opt/miniconda3/bin:$PATH"
   ]
  },
  {
   "cell_type": "code",
   "execution_count": 9,
   "id": "1b2efa8f",
   "metadata": {},
   "outputs": [],
   "source": [
    "# Permission Denied\n",
    "# Files or directory created are created by UID or GID or Groups"
   ]
  },
  {
   "cell_type": "code",
   "execution_count": 10,
   "id": "cdd71b4a",
   "metadata": {},
   "outputs": [
    {
     "name": "stdout",
     "output_type": "stream",
     "text": [
      "uid=502(nitesh) gid=20(staff) groups=20(staff),12(everyone),61(localaccounts),706(com.apple.sharepoint.group.6),703(com.apple.sharepoint.group.1),704(com.apple.sharepoint.group.4),701(com.apple.sharepoint.group.3),705(com.apple.sharepoint.group.5),707(com.apple.sharepoint.group.7),100(_lpoperator),702(com.apple.sharepoint.group.2)\r\n"
     ]
    }
   ],
   "source": [
    "# command is id\n",
    "!id"
   ]
  },
  {
   "cell_type": "code",
   "execution_count": 11,
   "id": "4aa3e152",
   "metadata": {},
   "outputs": [],
   "source": [
    "# read -4\n",
    "# write -2\n",
    "# execute -1\n",
    "# nopermissions -0\n",
    "# user - group - other"
   ]
  },
  {
   "cell_type": "code",
   "execution_count": 12,
   "id": "06b95e0b",
   "metadata": {},
   "outputs": [
    {
     "name": "stdout",
     "output_type": "stream",
     "text": [
      "total 88\r\n",
      "-rw-r--r--  1 nitesh  staff  41820 Dec 16 10:42 python101.ipynb\r\n"
     ]
    }
   ],
   "source": [
    "!ls -ltr\n"
   ]
  },
  {
   "cell_type": "code",
   "execution_count": 13,
   "id": "d287277a",
   "metadata": {},
   "outputs": [],
   "source": [
    "# d- means directory\n",
    "# l- means link"
   ]
  },
  {
   "cell_type": "code",
   "execution_count": 14,
   "id": "88e2de78",
   "metadata": {},
   "outputs": [],
   "source": [
    "# link in linux is shortcuts"
   ]
  },
  {
   "cell_type": "code",
   "execution_count": 15,
   "id": "3420045b",
   "metadata": {},
   "outputs": [
    {
     "name": "stdout",
     "output_type": "stream",
     "text": [
      "022\r\n"
     ]
    }
   ],
   "source": [
    "!umask"
   ]
  },
  {
   "cell_type": "code",
   "execution_count": 16,
   "id": "23407f78",
   "metadata": {},
   "outputs": [],
   "source": [
    "# file created and deleted are done by particular UID ina shell"
   ]
  },
  {
   "cell_type": "code",
   "execution_count": 18,
   "id": "0cfeaa34",
   "metadata": {},
   "outputs": [],
   "source": [
    "# touch is command to make files\n",
    "# one can also do touch if file already exists"
   ]
  },
  {
   "cell_type": "code",
   "execution_count": 19,
   "id": "154732f9",
   "metadata": {},
   "outputs": [],
   "source": [
    "# changing the ownership of a file can only be done by super users"
   ]
  },
  {
   "cell_type": "code",
   "execution_count": 20,
   "id": "8b280055",
   "metadata": {},
   "outputs": [],
   "source": [
    "# Permission Denied \n",
    "# look if you are allowed to execute\n",
    "# use which command\n"
   ]
  },
  {
   "cell_type": "code",
   "execution_count": 21,
   "id": "5197336a",
   "metadata": {},
   "outputs": [
    {
     "name": "stdout",
     "output_type": "stream",
     "text": [
      "drwxr-xr-x  4 nitesh  staff  128 Dec 16 10:46 \u001b[34m.\u001b[m\u001b[m\r\n"
     ]
    }
   ],
   "source": [
    "!ls -ld"
   ]
  },
  {
   "cell_type": "code",
   "execution_count": 23,
   "id": "f5481590",
   "metadata": {},
   "outputs": [
    {
     "name": "stdout",
     "output_type": "stream",
     "text": [
      "  system\n",
      "  3.10.3\n",
      "* 3.11.0 (set by /Users/nitesh/.pyenv/version)\n",
      "  3.11.0/envs/env\n",
      "  env\n"
     ]
    }
   ],
   "source": [
    "!pyenv versions"
   ]
  },
  {
   "cell_type": "code",
   "execution_count": 24,
   "id": "11e3b4c4",
   "metadata": {},
   "outputs": [],
   "source": [
    "# pyenv local 3.7.2"
   ]
  },
  {
   "cell_type": "code",
   "execution_count": 25,
   "id": "24b839a1",
   "metadata": {},
   "outputs": [
    {
     "name": "stdout",
     "output_type": "stream",
     "text": [
      ".: directory\r\n"
     ]
    }
   ],
   "source": [
    "!file ."
   ]
  },
  {
   "cell_type": "code",
   "execution_count": 26,
   "id": "8e229e08",
   "metadata": {},
   "outputs": [
    {
     "name": "stdout",
     "output_type": "stream",
     "text": [
      "./python101.ipynb: JSON data\r\n"
     ]
    }
   ],
   "source": [
    "!file ./python101.ipynb"
   ]
  },
  {
   "cell_type": "code",
   "execution_count": 27,
   "id": "17f86648",
   "metadata": {},
   "outputs": [],
   "source": [
    "# giving info about what type file is a ipynb \n",
    "# here we see notebook is simply json config"
   ]
  },
  {
   "cell_type": "code",
   "execution_count": 28,
   "id": "4a00ec34",
   "metadata": {},
   "outputs": [
    {
     "name": "stdout",
     "output_type": "stream",
     "text": [
      "{\r\n",
      " \"cells\": [\r\n",
      "  {\r\n",
      "   \"cell_type\": \"code\",\r\n",
      "   \"execution_count\": 1,\r\n"
     ]
    }
   ],
   "source": [
    "!head -n 5 ./python101.ipynb"
   ]
  },
  {
   "cell_type": "code",
   "execution_count": 29,
   "id": "0bf9e749",
   "metadata": {},
   "outputs": [],
   "source": [
    "# /var/log/syslogs\n",
    "# this where all ogs are stored"
   ]
  },
  {
   "cell_type": "code",
   "execution_count": 30,
   "id": "3072c03c",
   "metadata": {},
   "outputs": [],
   "source": [
    "# ps aux\n",
    "# ls -l /proc/PID"
   ]
  },
  {
   "cell_type": "code",
   "execution_count": 31,
   "id": "56976a09",
   "metadata": {},
   "outputs": [],
   "source": [
    "# SIMM single instruction multiple"
   ]
  },
  {
   "cell_type": "code",
   "execution_count": 32,
   "id": "fc875adf",
   "metadata": {},
   "outputs": [
    {
     "data": {
      "text/plain": [
       "32"
      ]
     },
     "execution_count": 32,
     "metadata": {},
     "output_type": "execute_result"
    }
   ],
   "source": [
    "2<<4 "
   ]
  },
  {
   "cell_type": "code",
   "execution_count": 34,
   "id": "2959239d",
   "metadata": {},
   "outputs": [
    {
     "data": {
      "text/plain": [
       "1073741824"
      ]
     },
     "execution_count": 34,
     "metadata": {},
     "output_type": "execute_result"
    }
   ],
   "source": [
    "2<<29"
   ]
  },
  {
   "cell_type": "code",
   "execution_count": 35,
   "id": "0164374d",
   "metadata": {},
   "outputs": [],
   "source": [
    "# remotely cpnnecting to own3 or own2 machines available with aganitha"
   ]
  },
  {
   "cell_type": "code",
   "execution_count": 36,
   "id": "c690602a",
   "metadata": {},
   "outputs": [],
   "source": [
    "# editing files with vi"
   ]
  },
  {
   "cell_type": "code",
   "execution_count": 37,
   "id": "2eebc733",
   "metadata": {},
   "outputs": [],
   "source": [
    "# vi \n",
    "# one enters in command mode\n",
    "# : is a special character\n",
    "# :wq (write and quit)\n",
    "# i means coming to insert mode\n",
    "# pressing esc means returning back to command mode"
   ]
  },
  {
   "cell_type": "code",
   "execution_count": 38,
   "id": "d90a5afd",
   "metadata": {},
   "outputs": [],
   "source": [
    "# :wq! (write and quit)\n",
    "\n",
    "# :q! \n",
    "# "
   ]
  },
  {
   "cell_type": "raw",
   "id": "847100bd",
   "metadata": {},
   "source": [
    "Option 1: Using visual studio code (Preferred unless connecting via SSH is difficult in cases such as lack of direct connectivity e.g., connecting to a machine before connecting to the final machine of interest)\n",
    "Connecting to a Linux server using VS code using ‘View’> ‘Command palette’>’Connect to Host…’ where you can see all the hosts declared in the config file, connect to the remote machine and browse through files. You can also add a new host from ‘Command palette’(‘Remote SSH’ extension from Microsoft to be installed)\n",
    ".ssh\n",
    "config file which has aliases of machines & host-specific configurations\n",
    "Host <alias name>\n",
    "Host name\n",
    "user (can log in as a cog as well)\n",
    "SSH keys\n",
    "Option 2: Editors\n",
    "vi\n",
    "Command mode: Default when we enter. So, typing keys won't affect file\n",
    "‘Esc’ to come back to command mode from edit  mode\n",
    "Edit mode:\n",
    "i - Insert | Starts editing at cursor location (Command -> edit mode)\n",
    "a - Append | Starts 1 character to right (Command -> edit mode)\n",
    "o - Opens new line | Starts a new line (Command-> edit mode)\n",
    "To save file, first come into command mode and then,\n",
    ":q! - Quit without saving. If no !, you will be asked if you are sure\n",
    ":w - Write \n",
    ":wq - Save and quit\n",
    ":1 - To get to first line of file\n",
    ":$ - To get to last line of file\n",
    ":n - To get to nth line of file\n",
    "Ctrl + G: Current location in the file\n",
    "y - yank (Copy)\n",
    "y1y - Copy 1 line\n",
    "y100y - Copy 100 times\n",
    "p - put/paste\n",
    "p100p\n",
    "If the file is long and spread across multiple screens (like Pgup, Pgdown)\n",
    "Ctrl + b: Back one screen\n",
    "Ctrl + f: Forward one screen\n",
    "d - delete\n",
    "dd or d1d: Delete 1 line\n",
    "d100d - Delete 100 lines\n",
    ": .,$ d - Delete(d) from current line (.) to last line ($)\n",
    ":1,$ d - Delete from 1st to last line\n",
    ":1,. d - Delete from 1st to current line\n",
    "x - To delete 1 character at a time\n",
    "5x - To delete 5 characters at a time\n",
    "Shift + d - Delete entire line\n",
    "r - replace character\n",
    "u - to undo last operation\n",
    ". - to repeat last operation\n",
    "Moving within a line\t\n",
    "^ - To move to beginning of line\n",
    "$ - To move to end of line\n",
    "emacs\n",
    "Ctrl + Ctrl (because 26 commands are not enough!)\n",
    "Ctrl + a : Start of line\n",
    "Ctrl + e : End of line\n",
    "Ctrl + k : Remove rest of line\n",
    "Esc + d : Remove one word\n",
    "bash is default in emacs\n",
    "Gnu emacs vs. X emacs\n",
    "vim (vi improved)\n",
    "gvim (Graphical vim)\n",
    "Copying files\n",
    "scp (Most popular)\n",
    "ssh makes it possible \n",
    "means ‘secure copy’\n",
    "scp chanukya@own3.aganitha.ai:/home/chanukya/work…/<file> <destination> or . (current directory)\n",
    "Put user name (chanukya) if local user name and that on machine is not same\n",
    "rcp\n",
    "rsh made it possible\n",
    "Before public key<->private key authentication\n",
    "password less login\n",
    "Less secure. Replaced ‘r’ with ‘s’(secure)\t\n",
    "rsync\n",
    "Syncs only the changes if the file is already present instead of downloading the entire file again\n",
    "Breaks each file into chunks and compares signatures between existing file and file to be copied\n",
    "Hence, it is faster for cases where the file is already downloaded once\n",
    "-t : To preserve the timestamp\n",
    "atk sync.sh wraps rsync (Refer guides.own3.aganitha.ai)\n",
    "Syncs the local work folder with that in the remote machine. But the danger of losing the folders available only locally exists.\n",
    "Push excludes Notebooks\n",
    "ftp\n",
    "Important because large files cant be transferred using http (due to timeout issues). ftp has ‘ls’(listing) capability while http does not have that capability\n",
    "To do anonymous FTP from servers that allow it, login as anonymous with email address as password.\n",
    "ncftp is more advanced and accepts URLs. Logs in by default anonymously\n",
    "ncftp <URL> \n",
    "help \n",
    "ncftpget <URL of the file>\n",
    "Text manipulation\n",
    ":1,$ s/^/#/\n",
    "Substitute(s) 1 to last line ($) ^ with #\n"
   ]
  },
  {
   "cell_type": "code",
   "execution_count": 1,
   "id": "b05bf5b7",
   "metadata": {},
   "outputs": [],
   "source": [
    "# cp source destination\n",
    "#!/usr/bin/env python ( for whatever the environment is configured for)"
   ]
  },
  {
   "cell_type": "code",
   "execution_count": 2,
   "id": "8489b747",
   "metadata": {},
   "outputs": [],
   "source": [
    "#scp (secure copy)"
   ]
  },
  {
   "cell_type": "code",
   "execution_count": 3,
   "id": "16a14fe0",
   "metadata": {},
   "outputs": [],
   "source": [
    "# scp ~/path nitesh@own3.aganitha.ai"
   ]
  },
  {
   "cell_type": "code",
   "execution_count": 4,
   "id": "021eb5d2",
   "metadata": {},
   "outputs": [],
   "source": [
    "# scp always downloads the entire file"
   ]
  },
  {
   "cell_type": "code",
   "execution_count": 5,
   "id": "34c0eee8",
   "metadata": {},
   "outputs": [],
   "source": [
    "# what if we only want the delta / the change with same file"
   ]
  },
  {
   "cell_type": "code",
   "execution_count": 6,
   "id": "69e4e76f",
   "metadata": {},
   "outputs": [],
   "source": [
    "# the above facility can be used with\n",
    "# rsync source dest"
   ]
  },
  {
   "cell_type": "code",
   "execution_count": 7,
   "id": "dfe29eb0",
   "metadata": {},
   "outputs": [
    {
     "name": "stdout",
     "output_type": "stream",
     "text": [
      "rsync  version 2.6.9  protocol version 29\r\n",
      "Copyright (C) 1996-2006 by Andrew Tridgell, Wayne Davison, and others.\r\n",
      "<http://rsync.samba.org/>\r\n",
      "Capabilities: 64-bit files, socketpairs, hard links, symlinks, batchfiles,\r\n",
      "              inplace, IPv6, 64-bit system inums, 64-bit internal inums\r\n",
      "\r\n",
      "rsync comes with ABSOLUTELY NO WARRANTY.  This is free software, and you\r\n",
      "are welcome to redistribute it under certain conditions.  See the GNU\r\n",
      "General Public Licence for details.\r\n",
      "\r\n",
      "rsync is a file transfer program capable of efficient remote update\r\n",
      "via a fast differencing algorithm.\r\n",
      "\r\n",
      "Usage: rsync [OPTION]... SRC [SRC]... DEST\r\n",
      "  or   rsync [OPTION]... SRC [SRC]... [USER@]HOST:DEST\r\n",
      "  or   rsync [OPTION]... SRC [SRC]... [USER@]HOST::DEST\r\n",
      "  or   rsync [OPTION]... SRC [SRC]... rsync://[USER@]HOST[:PORT]/DEST\r\n",
      "  or   rsync [OPTION]... [USER@]HOST:SRC [DEST]\r\n",
      "  or   rsync [OPTION]... [USER@]HOST::SRC [DEST]\r\n",
      "  or   rsync [OPTION]... rsync://[USER@]HOST[:PORT]/SRC [DEST]\r\n",
      "The ':' usages connect via remote shell, while '::' & 'rsync://' usages connect\r\n",
      "to an rsync daemon, and require SRC or DEST to start with a module name.\r\n",
      "\r\n",
      "Options\r\n",
      " -v, --verbose               increase verbosity\r\n",
      " -q, --quiet                 suppress non-error messages\r\n",
      "     --no-motd               suppress daemon-mode MOTD (see manpage caveat)\r\n",
      " -c, --checksum              skip based on checksum, not mod-time & size\r\n",
      " -a, --archive               archive mode; same as -rlptgoD (no -H)\r\n",
      "     --no-OPTION             turn off an implied OPTION (e.g. --no-D)\r\n",
      " -r, --recursive             recurse into directories\r\n",
      " -R, --relative              use relative path names\r\n",
      "     --no-implied-dirs       don't send implied dirs with --relative\r\n",
      " -b, --backup                make backups (see --suffix & --backup-dir)\r\n",
      "     --backup-dir=DIR        make backups into hierarchy based in DIR\r\n",
      "     --suffix=SUFFIX         set backup suffix (default ~ w/o --backup-dir)\r\n",
      " -u, --update                skip files that are newer on the receiver\r\n",
      "     --inplace               update destination files in-place (SEE MAN PAGE)\r\n",
      "     --append                append data onto shorter files\r\n",
      " -d, --dirs                  transfer directories without recursing\r\n",
      " -l, --links                 copy symlinks as symlinks\r\n",
      " -L, --copy-links            transform symlink into referent file/dir\r\n",
      "     --copy-unsafe-links     only \"unsafe\" symlinks are transformed\r\n",
      "     --safe-links            ignore symlinks that point outside the source tree\r\n",
      " -k, --copy-dirlinks         transform symlink to a dir into referent dir\r\n",
      " -K, --keep-dirlinks         treat symlinked dir on receiver as dir\r\n",
      " -H, --hard-links            preserve hard links\r\n",
      " -p, --perms                 preserve permissions\r\n",
      "     --executability         preserve the file's executability\r\n",
      "     --chmod=CHMOD           affect file and/or directory permissions\r\n",
      " -o, --owner                 preserve owner (super-user only)\r\n",
      " -g, --group                 preserve group\r\n",
      "     --devices               preserve device files (super-user only)\r\n",
      "     --specials              preserve special files\r\n",
      " -D                          same as --devices --specials\r\n",
      " -t, --times                 preserve times\r\n",
      " -O, --omit-dir-times        omit directories when preserving times\r\n",
      "     --super                 receiver attempts super-user activities\r\n",
      " -S, --sparse                handle sparse files efficiently\r\n",
      " -n, --dry-run               show what would have been transferred\r\n",
      " -W, --whole-file            copy files whole (without rsync algorithm)\r\n",
      " -x, --one-file-system       don't cross filesystem boundaries\r\n",
      " -B, --block-size=SIZE       force a fixed checksum block-size\r\n",
      " -e, --rsh=COMMAND           specify the remote shell to use\r\n",
      "     --rsync-path=PROGRAM    specify the rsync to run on the remote machine\r\n",
      "     --existing              skip creating new files on receiver\r\n",
      "     --ignore-existing       skip updating files that already exist on receiver\r\n",
      "     --remove-source-files   sender removes synchronized files (non-dirs)\r\n",
      "     --del                   an alias for --delete-during\r\n",
      "     --delete                delete extraneous files from destination dirs\r\n",
      "     --delete-before         receiver deletes before transfer (default)\r\n",
      "     --delete-during         receiver deletes during transfer, not before\r\n",
      "     --delete-after          receiver deletes after transfer, not before\r\n",
      "     --delete-excluded       also delete excluded files from destination dirs\r\n",
      "     --ignore-errors         delete even if there are I/O errors\r\n",
      "     --force                 force deletion of directories even if not empty\r\n",
      "     --max-delete=NUM        don't delete more than NUM files\r\n",
      "     --max-size=SIZE         don't transfer any file larger than SIZE\r\n",
      "     --min-size=SIZE         don't transfer any file smaller than SIZE\r\n",
      "     --partial               keep partially transferred files\r\n",
      "     --partial-dir=DIR       put a partially transferred file into DIR\r\n",
      "     --delay-updates         put all updated files into place at transfer's end\r\n",
      " -m, --prune-empty-dirs      prune empty directory chains from the file-list\r\n",
      "     --numeric-ids           don't map uid/gid values by user/group name\r\n",
      "     --timeout=TIME          set I/O timeout in seconds\r\n",
      " -I, --ignore-times          don't skip files that match in size and mod-time\r\n",
      "     --size-only             skip files that match in size\r\n",
      "     --modify-window=NUM     compare mod-times with reduced accuracy\r\n",
      " -T, --temp-dir=DIR          create temporary files in directory DIR\r\n",
      " -y, --fuzzy                 find similar file for basis if no dest file\r\n",
      "     --compare-dest=DIR      also compare destination files relative to DIR\r\n",
      "     --copy-dest=DIR         ... and include copies of unchanged files\r\n",
      "     --link-dest=DIR         hardlink to files in DIR when unchanged\r\n",
      " -z, --compress              compress file data during the transfer\r\n",
      "     --compress-level=NUM    explicitly set compression level\r\n",
      " -C, --cvs-exclude           auto-ignore files the same way CVS does\r\n",
      " -f, --filter=RULE           add a file-filtering RULE\r\n",
      " -F                          same as --filter='dir-merge /.rsync-filter'\r\n",
      "                             repeated: --filter='- .rsync-filter'\r\n",
      "     --exclude=PATTERN       exclude files matching PATTERN\r\n",
      "     --exclude-from=FILE     read exclude patterns from FILE\r\n",
      "     --include=PATTERN       don't exclude files matching PATTERN\r\n",
      "     --include-from=FILE     read include patterns from FILE\r\n",
      "     --files-from=FILE       read list of source-file names from FILE\r\n",
      " -0, --from0                 all *-from/filter files are delimited by 0s\r\n",
      "     --address=ADDRESS       bind address for outgoing socket to daemon\r\n",
      "     --port=PORT             specify double-colon alternate port number\r\n",
      "     --sockopts=OPTIONS      specify custom TCP options\r\n",
      "     --blocking-io           use blocking I/O for the remote shell\r\n",
      "     --stats                 give some file-transfer stats\r\n",
      " -8, --8-bit-output          leave high-bit chars unescaped in output\r\n",
      " -h, --human-readable        output numbers in a human-readable format\r\n",
      "     --progress              show progress during transfer\r\n",
      " -P                          same as --partial --progress\r\n",
      " -i, --itemize-changes       output a change-summary for all updates\r\n",
      "     --out-format=FORMAT     output updates using the specified FORMAT\r\n",
      "     --log-file=FILE         log what we're doing to the specified FILE\r\n",
      "     --log-file-format=FMT   log updates using the specified FMT\r\n",
      "     --password-file=FILE    read password from FILE\r\n",
      "     --list-only             list the files instead of copying them\r\n",
      "     --bwlimit=KBPS          limit I/O bandwidth; KBytes per second\r\n",
      "     --write-batch=FILE      write a batched update to FILE\r\n",
      "     --only-write-batch=FILE like --write-batch but w/o updating destination\r\n",
      "     --read-batch=FILE       read a batched update from FILE\r\n",
      "     --protocol=NUM          force an older protocol version to be used\r\n",
      " -E, --extended-attributes   copy extended attributes\r\n",
      "     --cache                 disable fcntl(F_NOCACHE)\r\n",
      " -4, --ipv4                  prefer IPv4\r\n",
      " -6, --ipv6                  prefer IPv6\r\n",
      "     --version               print version number\r\n",
      "(-h) --help                  show this help (-h works with no other options)\r\n",
      "\r\n",
      "Use \"rsync --daemon --help\" to see the daemon-mode command-line options.\r\n",
      "Please see the rsync(1) and rsyncd.conf(5) man pages for full documentation.\r\n",
      "See http://rsync.samba.org/ for updates, bug reports, and answers\r\n"
     ]
    }
   ],
   "source": [
    "!rsync --help"
   ]
  },
  {
   "cell_type": "code",
   "execution_count": 8,
   "id": "fe8db7e6",
   "metadata": {},
   "outputs": [],
   "source": [
    "# ftps with linux"
   ]
  },
  {
   "cell_type": "code",
   "execution_count": 47,
   "id": "f5e751c2",
   "metadata": {},
   "outputs": [],
   "source": [
    "#ftp server_name "
   ]
  },
  {
   "cell_type": "code",
   "execution_count": 48,
   "id": "02a91729",
   "metadata": {},
   "outputs": [],
   "source": [
    "# ncftp url "
   ]
  },
  {
   "cell_type": "code",
   "execution_count": 49,
   "id": "4519469d",
   "metadata": {},
   "outputs": [],
   "source": [
    "# similar to terminal one will get into server and do ls \n",
    "# command here to get help is help"
   ]
  },
  {
   "cell_type": "code",
   "execution_count": 50,
   "id": "935b2c28",
   "metadata": {},
   "outputs": [],
   "source": [
    "#ncftpget server/path"
   ]
  },
  {
   "cell_type": "code",
   "execution_count": 52,
   "id": "7d876c38",
   "metadata": {},
   "outputs": [],
   "source": [
    "# wild cards work with ncftp as it can do ls in the server not the local"
   ]
  },
  {
   "cell_type": "code",
   "execution_count": 53,
   "id": "4548ed72",
   "metadata": {},
   "outputs": [],
   "source": [
    "# curl wildcard"
   ]
  },
  {
   "cell_type": "code",
   "execution_count": 54,
   "id": "8c7c9b7c",
   "metadata": {},
   "outputs": [],
   "source": [
    "# diff file1 file2\n"
   ]
  },
  {
   "cell_type": "code",
   "execution_count": 55,
   "id": "c5b3a6b7",
   "metadata": {},
   "outputs": [],
   "source": [
    "# curl is for http\n",
    "# wget has no wildcard\n",
    "# by default wget crawls\n",
    "# wget -r url\n"
   ]
  },
  {
   "cell_type": "code",
   "execution_count": 56,
   "id": "11bb1dbb",
   "metadata": {},
   "outputs": [],
   "source": [
    "# text processing with linux"
   ]
  },
  {
   "cell_type": "code",
   "execution_count": 57,
   "id": "8542e89c",
   "metadata": {},
   "outputs": [],
   "source": [
    "# when you connect to server the wild cards are inerpreted by the server\n"
   ]
  },
  {
   "cell_type": "code",
   "execution_count": 59,
   "id": "aa3c704a",
   "metadata": {},
   "outputs": [],
   "source": [
    "# glob patterns\n",
    "# [1hfufhiro] (any of these charcaters)\n",
    "# [0-9a-zA-Z] (range)\n",
    "# ^ starts with\n",
    "# [!anhfi]built"
   ]
  },
  {
   "cell_type": "code",
   "execution_count": 60,
   "id": "bcf9803b",
   "metadata": {},
   "outputs": [],
   "source": [
    "# m/\\b Pattern \\b/"
   ]
  },
  {
   "cell_type": "code",
   "execution_count": 61,
   "id": "812aece3",
   "metadata": {},
   "outputs": [],
   "source": [
    "# pattern* \n",
    "# pattern repeeated zero or more times"
   ]
  },
  {
   "cell_type": "code",
   "execution_count": 62,
   "id": "21c276bc",
   "metadata": {},
   "outputs": [],
   "source": [
    "# + means one or more"
   ]
  },
  {
   "cell_type": "code",
   "execution_count": 63,
   "id": "7ad74779",
   "metadata": {},
   "outputs": [],
   "source": [
    "# ? zero or one"
   ]
  },
  {
   "cell_type": "code",
   "execution_count": 64,
   "id": "6098937e",
   "metadata": {},
   "outputs": [],
   "source": [
    "# {1,4}\n",
    "# qunatifiers acts on preceeding characters\n",
    "# \\s white space characters equivalent to [ \\n\\r\\t]"
   ]
  },
  {
   "cell_type": "code",
   "execution_count": 65,
   "id": "208c0877",
   "metadata": {},
   "outputs": [],
   "source": [
    "# \\S anything except the white spaces"
   ]
  },
  {
   "cell_type": "code",
   "execution_count": 66,
   "id": "e381e80c",
   "metadata": {},
   "outputs": [],
   "source": [
    "# \\w any word characters )alphanumeric and underscore\n",
    "# \\W non word characters\n"
   ]
  },
  {
   "cell_type": "code",
   "execution_count": 67,
   "id": "0ef7dba9",
   "metadata": {},
   "outputs": [],
   "source": [
    "import re"
   ]
  },
  {
   "cell_type": "code",
   "execution_count": 68,
   "id": "e904e50b",
   "metadata": {},
   "outputs": [
    {
     "data": {
      "text/plain": [
       "['$', '$']"
      ]
     },
     "execution_count": 68,
     "metadata": {},
     "output_type": "execute_result"
    }
   ],
   "source": [
    "re.findall(r'\\W','$$8nitesh')"
   ]
  },
  {
   "cell_type": "code",
   "execution_count": 74,
   "id": "70960a8a",
   "metadata": {},
   "outputs": [
    {
     "data": {
      "text/plain": [
       "['', '']"
      ]
     },
     "execution_count": 74,
     "metadata": {},
     "output_type": "execute_result"
    }
   ],
   "source": [
    "re.findall(r'\\b', 'nitesh')"
   ]
  },
  {
   "cell_type": "code",
   "execution_count": 75,
   "id": "aaaa2a34",
   "metadata": {},
   "outputs": [],
   "source": [
    "# /b gets all word boundaries"
   ]
  },
  {
   "cell_type": "code",
   "execution_count": 76,
   "id": "9c577e86",
   "metadata": {},
   "outputs": [],
   "source": [
    "# ^ beginning\n",
    "# $ end"
   ]
  },
  {
   "cell_type": "code",
   "execution_count": 77,
   "id": "b55c46a5",
   "metadata": {},
   "outputs": [],
   "source": [
    "# getting all lines\n",
    "# ^$ where there is nothing between beginnning and end"
   ]
  },
  {
   "cell_type": "code",
   "execution_count": 78,
   "id": "393b782d",
   "metadata": {},
   "outputs": [],
   "source": [
    "# .*  (any character any number of time)"
   ]
  },
  {
   "cell_type": "code",
   "execution_count": 1,
   "id": "612c0e3c",
   "metadata": {},
   "outputs": [],
   "source": [
    "# sed (stream editor)\n",
    "# sed '/s/pattern/this/g' (g here is global substitute all in all lines)\n",
    "# Always use grep -E when using grep "
   ]
  },
  {
   "cell_type": "code",
   "execution_count": 2,
   "id": "56729129",
   "metadata": {},
   "outputs": [],
   "source": [
    "# awk '{print $1}'\n",
    "# awk -F , '{print $1 $2}'  ( F here is Filed separator) to get certain columns in a file"
   ]
  },
  {
   "cell_type": "code",
   "execution_count": 3,
   "id": "16c27f6c",
   "metadata": {},
   "outputs": [],
   "source": [
    "# gnu parallel and sequential task management"
   ]
  },
  {
   "cell_type": "code",
   "execution_count": 4,
   "id": "2de46aa5",
   "metadata": {},
   "outputs": [],
   "source": [
    "# partitions are unit of paralleism"
   ]
  },
  {
   "cell_type": "code",
   "execution_count": 9,
   "id": "8c7335f3",
   "metadata": {},
   "outputs": [],
   "source": [
    "# gzip/ezip\n",
    "# learn tar commands\n",
    "#"
   ]
  },
  {
   "cell_type": "code",
   "execution_count": 10,
   "id": "79f55e60",
   "metadata": {},
   "outputs": [],
   "source": [
    "# Docker\n",
    "# An OS is abstration of underlying hardware\n",
    "# kernel is core part of OS that binds software to hardware\n",
    "# Contaier technologies have been here for more than a decade now\n",
    "# the one who understood linux namespaces and control group to a certain depth were able to make containarized applications\n",
    "# docker gives high level intuition of this containerization"
   ]
  },
  {
   "cell_type": "code",
   "execution_count": 11,
   "id": "6413cee3",
   "metadata": {},
   "outputs": [],
   "source": [
    "# docker containers are run time instances of docker images\n",
    "# docker has a common file system for most of its containers called union file system\n",
    "# docker images are packages of all dependencies to run the container\n"
   ]
  },
  {
   "cell_type": "code",
   "execution_count": 1,
   "id": "c2701905",
   "metadata": {},
   "outputs": [],
   "source": [
    "# Dockerfile\n",
    "# docker build -t nitesh path_to _dir_with_dockerfile\n",
    "# docker run --name Nitesh -it --rm container_id/container_name bash\n",
    "# here --rm simply means remove the conatainer as soon as it sis closede\n",
    "# -v $PWD:/user/home/\n",
    "# mounting volumes flag\n",
    "# docker rm container_name\n",
    "\n"
   ]
  },
  {
   "cell_type": "code",
   "execution_count": 2,
   "id": "3d2ce326",
   "metadata": {},
   "outputs": [],
   "source": [
    "# FROM base_image\n",
    "# RUN commands\n",
    "# Run Commands\n",
    "# CMD [\"\",\"\",\"\"]\n",
    "# docker run --name nitesh -it --rm image_name -v $PWD:\n"
   ]
  },
  {
   "cell_type": "code",
   "execution_count": 3,
   "id": "b08d4885",
   "metadata": {},
   "outputs": [],
   "source": [
    "# docker exec -it container-id bash\n",
    "# docker logs -f conatiner_id\n",
    "# docker attach container-id\n",
    "# LABEL \"maintainer\"=\"Nitesh\"\n",
    "# CMD [\"\",\"\",\"\",\"\"]\n",
    "# ENV MY_NAME=\"Nitesh\"\n",
    "# "
   ]
  },
  {
   "cell_type": "code",
   "execution_count": 1,
   "id": "8a404d9d",
   "metadata": {},
   "outputs": [],
   "source": [
    "# first ENTRYPOINT [\"\",\"\",\"\"]\n",
    "# then CMD [\"default args\"]\n",
    "# there are no users other than root\n",
    "# so to create user\n",
    "# USER\n",
    "# cat /etc/passwd in container \n",
    "# all system id's are less than 1000\n",
    "# all user_ids should be > 1000\n",
    "# first one does is \n",
    "# adduser name\n",
    "# USER name\n",
    "# the user command here switches to that user\n",
    "# in other words you should add user before switching to that user\n",
    "# /home/jupyter/work\n"
   ]
  },
  {
   "cell_type": "code",
   "execution_count": 2,
   "id": "2320528f",
   "metadata": {},
   "outputs": [],
   "source": [
    "# ARG VER=20.04\n",
    "# FROM ubuntu:$VER\n",
    "# docker build --build-arg VER=18.04 -t nitesh/ubuntu .\n"
   ]
  },
  {
   "cell_type": "code",
   "execution_count": 3,
   "id": "3491a9d9",
   "metadata": {},
   "outputs": [],
   "source": [
    "# try making chnges to Dockerfile only last layers\n",
    "# if we modify anything in Between it will building from scratch again\n",
    "# 0.0.0.0/num # num here is no of bits allowed to vary\n"
   ]
  },
  {
   "cell_type": "code",
   "execution_count": 5,
   "id": "d054c176",
   "metadata": {},
   "outputs": [],
   "source": [
    "# nc -l 7685\n",
    "# above command means netcat listen\n",
    "# nc localhost 7685\n",
    "# above command says connect to localhost 7685\n",
    "\n",
    "\n"
   ]
  },
  {
   "cell_type": "code",
   "execution_count": 6,
   "id": "8225a079",
   "metadata": {},
   "outputs": [],
   "source": [
    "# nc www.google.com 80\n",
    "# HEAD / HTTP/1.0\n"
   ]
  },
  {
   "cell_type": "code",
   "execution_count": 8,
   "id": "d565228c",
   "metadata": {},
   "outputs": [],
   "source": [
    "# docker inspect to inspect a container\n",
    "# docker inspect container-name | less\n",
    "# ping the ip \n",
    "# it will respond\n"
   ]
  },
  {
   "cell_type": "code",
   "execution_count": 9,
   "id": "3eb6258a",
   "metadata": {},
   "outputs": [],
   "source": [
    "# echo $?\n",
    "# 1 fail\n",
    "# 0 success\n"
   ]
  },
  {
   "cell_type": "code",
   "execution_count": 10,
   "id": "4fc3af56",
   "metadata": {},
   "outputs": [],
   "source": [
    "# docker run --name nitesh1 --rm -it -p 80:80 image_name\n"
   ]
  },
  {
   "cell_type": "code",
   "execution_count": null,
   "id": "61c30716",
   "metadata": {},
   "outputs": [],
   "source": []
  }
 ],
 "metadata": {
  "kernelspec": {
   "display_name": "Python 3 (ipykernel)",
   "language": "python",
   "name": "python3"
  },
  "language_info": {
   "codemirror_mode": {
    "name": "ipython",
    "version": 3
   },
   "file_extension": ".py",
   "mimetype": "text/x-python",
   "name": "python",
   "nbconvert_exporter": "python",
   "pygments_lexer": "ipython3",
   "version": "3.11.0"
  }
 },
 "nbformat": 4,
 "nbformat_minor": 5
}
