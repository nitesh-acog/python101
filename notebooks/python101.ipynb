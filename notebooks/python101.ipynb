{
 "cells": [
  {
   "cell_type": "code",
   "execution_count": 1,
   "id": "2153efd2",
   "metadata": {},
   "outputs": [],
   "source": [
    "# High level programming language with dynamic symantics\n",
    "# supports both scripting and oops\n",
    "# everything in. python is a object\n",
    "# when you create variable you are creating some instance of class\n"
   ]
  },
  {
   "cell_type": "code",
   "execution_count": 2,
   "id": "15cda042",
   "metadata": {},
   "outputs": [],
   "source": [
    "# we have two indexes setup when installing python packages\n",
    "# one with company and a public available one\n"
   ]
  },
  {
   "cell_type": "code",
   "execution_count": 3,
   "id": "8c456c7a",
   "metadata": {},
   "outputs": [],
   "source": [
    "# GIL\n",
    "# dynamically typed\n",
    "# Interpretable\n"
   ]
  },
  {
   "cell_type": "markdown",
   "id": "f66eb9d6",
   "metadata": {},
   "source": [
    "Optional[...] is a shorthand notation for Union[..., None], telling the type checker that either an object of the specific type is required, or None is required. ... stands for any valid type hint, including complex compound types or a Union[] of more types. Whenever you have a keyword argument with default value None, you should use Optional. (Note: If you are targeting Python 3.10 or newer, PEP 604 introduced a better syntax, see below).\n",
    "\n",
    "So for your two examples, you have dict and list container types, but the default value for the a keyword argument shows that None is permitted too so use Optional[...]:"
   ]
  },
  {
   "cell_type": "code",
   "execution_count": 6,
   "id": "83e9f093",
   "metadata": {},
   "outputs": [],
   "source": [
    "from typing import Optional\n",
    "\n",
    "def test(a: Optional[dict] = None) -> None:\n",
    "    #print(a) ==> {'a': 1234}\n",
    "    #or\n",
    "    print(a)\n",
    "\n",
    "def test(a: Optional[list] = None) -> None:\n",
    "    #print(a) ==> [1, 2, 3, 4, 'a', 'b']\n",
    "    #or\n",
    "    print(a)"
   ]
  },
  {
   "cell_type": "code",
   "execution_count": 7,
   "id": "072e4e38",
   "metadata": {},
   "outputs": [],
   "source": [
    "# Namespaces in python are inmpleted using hashmaps\n",
    "# or say python dict\n",
    "# Two keywords that came into picture with scopes is \n",
    "# nonlocal\n",
    "#global\n"
   ]
  },
  {
   "cell_type": "code",
   "execution_count": 8,
   "id": "e01d53cf",
   "metadata": {},
   "outputs": [],
   "source": [
    "# A namespace is a mapping from names to objects.\n",
    "\n",
    "# So lets take an example for this\n",
    "\n",
    "my_name='Nitesh'"
   ]
  },
  {
   "cell_type": "code",
   "execution_count": 9,
   "id": "f9db9a4f",
   "metadata": {},
   "outputs": [],
   "source": [
    "# Using id() function\n",
    "# Using addressof() function\n",
    "# Using hex() function"
   ]
  },
  {
   "cell_type": "code",
   "execution_count": 12,
   "id": "8a1a1571",
   "metadata": {},
   "outputs": [
    {
     "data": {
      "text/plain": [
       "'0x1072cb270'"
      ]
     },
     "execution_count": 12,
     "metadata": {},
     "output_type": "execute_result"
    }
   ],
   "source": [
    "hex(id(my_name))"
   ]
  },
  {
   "cell_type": "code",
   "execution_count": 15,
   "id": "daf69ef5",
   "metadata": {},
   "outputs": [
    {
     "data": {
      "text/plain": [
       "4754844058827023851"
      ]
     },
     "execution_count": 15,
     "metadata": {},
     "output_type": "execute_result"
    }
   ],
   "source": [
    "hash(my_name)\n",
    "# pytohn hash function uses MD5 Hashing Algorithm"
   ]
  },
  {
   "cell_type": "markdown",
   "id": "6e16f461",
   "metadata": {},
   "source": [
    "As Tim Peters suggests, namespaces aren’t just great. They’re honking great, and Python uses them extensively. In a Python program, there are four types of namespaces:\n",
    "\n",
    "+ Built-In\n",
    "+ Global\n",
    "+ Enclosing\n",
    "+ Local\n",
    "\n",
    "* These have differing lifetimes. As Python executes a program, it creates namespaces as necessary and deletes them when they’re no longer needed. Typically, many namespaces will exist at any given time."
   ]
  },
  {
   "cell_type": "code",
   "execution_count": 16,
   "id": "fd433961",
   "metadata": {},
   "outputs": [
    {
     "data": {
      "text/plain": [
       "<function __main__.test(a: Optional[list] = None) -> None>"
      ]
     },
     "execution_count": 16,
     "metadata": {},
     "output_type": "execute_result"
    }
   ],
   "source": [
    "test"
   ]
  },
  {
   "cell_type": "code",
   "execution_count": 18,
   "id": "191a4f5d",
   "metadata": {},
   "outputs": [],
   "source": [
    "# functions in python are first class objects\n",
    "# in other words one can use functions like any other objects in python"
   ]
  },
  {
   "cell_type": "markdown",
   "id": "92581d25",
   "metadata": {},
   "source": [
    "Examples of namespaces are: the set of built-in names (containing functions such as abs(), and built-in exception names); the global names in a module; and the local names in a function invocation. In a sense the set of attributes of an object also form a namespace. The important thing to know about namespaces is that there is absolutely no relation between names in different namespaces; for instance, two different modules may both define a function maximize without confusion — users of the modules must prefix it with the module name."
   ]
  },
  {
   "cell_type": "code",
   "execution_count": 19,
   "id": "e06f1e7b",
   "metadata": {},
   "outputs": [],
   "source": [
    "# the below example shows a great example for scopes in python"
   ]
  },
  {
   "cell_type": "code",
   "execution_count": 20,
   "id": "2807ab54",
   "metadata": {},
   "outputs": [
    {
     "name": "stdout",
     "output_type": "stream",
     "text": [
      "After local assignment: test spam\n",
      "After nonlocal assignment: nonlocal spam\n",
      "After global assignment: nonlocal spam\n",
      "In global scope: global spam\n"
     ]
    }
   ],
   "source": [
    "def scope_test():\n",
    "    def do_local():\n",
    "        spam = \"local spam\"\n",
    "\n",
    "    def do_nonlocal():\n",
    "        nonlocal spam\n",
    "        spam = \"nonlocal spam\"\n",
    "\n",
    "    def do_global():\n",
    "        global spam\n",
    "        spam = \"global spam\"\n",
    "\n",
    "    spam = \"test spam\"\n",
    "    do_local()\n",
    "    print(\"After local assignment:\", spam)\n",
    "    do_nonlocal()\n",
    "    print(\"After nonlocal assignment:\", spam)\n",
    "    do_global()\n",
    "    print(\"After global assignment:\", spam)\n",
    "\n",
    "scope_test()\n",
    "print(\"In global scope:\", spam)"
   ]
  },
  {
   "cell_type": "code",
   "execution_count": 21,
   "id": "b91f0371",
   "metadata": {},
   "outputs": [],
   "source": [
    "# OOPS\n",
    "# Object oriented programming"
   ]
  },
  {
   "cell_type": "code",
   "execution_count": 22,
   "id": "e08c7cd1",
   "metadata": {},
   "outputs": [],
   "source": [
    "# Repeating again \n",
    "# eveything in python is an object"
   ]
  },
  {
   "cell_type": "code",
   "execution_count": 24,
   "id": "50841511",
   "metadata": {},
   "outputs": [],
   "source": [
    "# defining Class\n",
    "# class is a blueprint for any object that needs to created\n",
    "# And a object is a instance of that class\n"
   ]
  },
  {
   "cell_type": "code",
   "execution_count": 25,
   "id": "d7e175d4",
   "metadata": {},
   "outputs": [],
   "source": [
    "# After python3.6 classes can be written as "
   ]
  },
  {
   "cell_type": "code",
   "execution_count": 30,
   "id": "d9e528ad",
   "metadata": {},
   "outputs": [],
   "source": [
    "class Animal:\n",
    "    def __init__(self,name:str='Dog')->None:\n",
    "        self._name=name\n",
    "        self.__name=name+' private_variable'"
   ]
  },
  {
   "cell_type": "code",
   "execution_count": 31,
   "id": "31924b8f",
   "metadata": {},
   "outputs": [],
   "source": [
    "a1=Animal('Lion')"
   ]
  },
  {
   "cell_type": "code",
   "execution_count": 32,
   "id": "537f7d68",
   "metadata": {},
   "outputs": [
    {
     "ename": "AttributeError",
     "evalue": "'Animal' object has no attribute 'name'",
     "output_type": "error",
     "traceback": [
      "\u001b[0;31m---------------------------------------------------------------------------\u001b[0m",
      "\u001b[0;31mAttributeError\u001b[0m                            Traceback (most recent call last)",
      "Cell \u001b[0;32mIn[32], line 1\u001b[0m\n\u001b[0;32m----> 1\u001b[0m \u001b[43ma1\u001b[49m\u001b[38;5;241;43m.\u001b[39;49m\u001b[43mname\u001b[49m\n",
      "\u001b[0;31mAttributeError\u001b[0m: 'Animal' object has no attribute 'name'"
     ]
    }
   ],
   "source": [
    "a1.name"
   ]
  },
  {
   "cell_type": "code",
   "execution_count": 33,
   "id": "b5bf490e",
   "metadata": {},
   "outputs": [
    {
     "data": {
      "text/plain": [
       "'Lion'"
      ]
     },
     "execution_count": 33,
     "metadata": {},
     "output_type": "execute_result"
    }
   ],
   "source": [
    "a1._name"
   ]
  },
  {
   "cell_type": "code",
   "execution_count": 34,
   "id": "a3a01a81",
   "metadata": {},
   "outputs": [
    {
     "ename": "AttributeError",
     "evalue": "'Animal' object has no attribute '__name'",
     "output_type": "error",
     "traceback": [
      "\u001b[0;31m---------------------------------------------------------------------------\u001b[0m",
      "\u001b[0;31mAttributeError\u001b[0m                            Traceback (most recent call last)",
      "Cell \u001b[0;32mIn[34], line 1\u001b[0m\n\u001b[0;32m----> 1\u001b[0m \u001b[43ma1\u001b[49m\u001b[38;5;241;43m.\u001b[39;49m\u001b[43m__name\u001b[49m\n",
      "\u001b[0;31mAttributeError\u001b[0m: 'Animal' object has no attribute '__name'"
     ]
    }
   ],
   "source": [
    "a1.__name"
   ]
  },
  {
   "cell_type": "markdown",
   "id": "29646bdb",
   "metadata": {},
   "source": [
    "there is no concept of encapsulation with python as all varibles within a class or can be accesed by any class or any subclass"
   ]
  },
  {
   "cell_type": "code",
   "execution_count": 38,
   "id": "27c29b01",
   "metadata": {},
   "outputs": [],
   "source": [
    "# private varibales \n",
    "# can only be accessed within a class\n",
    "# protected variables \n",
    "# can be accsed by subclasses "
   ]
  },
  {
   "cell_type": "code",
   "execution_count": 39,
   "id": "190ba7d6",
   "metadata": {},
   "outputs": [],
   "source": [
    "# private variables are written as __variableName\n",
    "# protected variables are written as _variableName"
   ]
  },
  {
   "cell_type": "code",
   "execution_count": 40,
   "id": "ee16f9d3",
   "metadata": {},
   "outputs": [
    {
     "data": {
      "text/plain": [
       "['ArithmeticError',\n",
       " 'AssertionError',\n",
       " 'AttributeError',\n",
       " 'BaseException',\n",
       " 'BaseExceptionGroup',\n",
       " 'BlockingIOError',\n",
       " 'BrokenPipeError',\n",
       " 'BufferError',\n",
       " 'BytesWarning',\n",
       " 'ChildProcessError',\n",
       " 'ConnectionAbortedError',\n",
       " 'ConnectionError',\n",
       " 'ConnectionRefusedError',\n",
       " 'ConnectionResetError',\n",
       " 'DeprecationWarning',\n",
       " 'EOFError',\n",
       " 'Ellipsis',\n",
       " 'EncodingWarning',\n",
       " 'EnvironmentError',\n",
       " 'Exception',\n",
       " 'ExceptionGroup',\n",
       " 'False',\n",
       " 'FileExistsError',\n",
       " 'FileNotFoundError',\n",
       " 'FloatingPointError',\n",
       " 'FutureWarning',\n",
       " 'GeneratorExit',\n",
       " 'IOError',\n",
       " 'ImportError',\n",
       " 'ImportWarning',\n",
       " 'IndentationError',\n",
       " 'IndexError',\n",
       " 'InterruptedError',\n",
       " 'IsADirectoryError',\n",
       " 'KeyError',\n",
       " 'KeyboardInterrupt',\n",
       " 'LookupError',\n",
       " 'MemoryError',\n",
       " 'ModuleNotFoundError',\n",
       " 'NameError',\n",
       " 'None',\n",
       " 'NotADirectoryError',\n",
       " 'NotImplemented',\n",
       " 'NotImplementedError',\n",
       " 'OSError',\n",
       " 'OverflowError',\n",
       " 'PendingDeprecationWarning',\n",
       " 'PermissionError',\n",
       " 'ProcessLookupError',\n",
       " 'RecursionError',\n",
       " 'ReferenceError',\n",
       " 'ResourceWarning',\n",
       " 'RuntimeError',\n",
       " 'RuntimeWarning',\n",
       " 'StopAsyncIteration',\n",
       " 'StopIteration',\n",
       " 'SyntaxError',\n",
       " 'SyntaxWarning',\n",
       " 'SystemError',\n",
       " 'SystemExit',\n",
       " 'TabError',\n",
       " 'TimeoutError',\n",
       " 'True',\n",
       " 'TypeError',\n",
       " 'UnboundLocalError',\n",
       " 'UnicodeDecodeError',\n",
       " 'UnicodeEncodeError',\n",
       " 'UnicodeError',\n",
       " 'UnicodeTranslateError',\n",
       " 'UnicodeWarning',\n",
       " 'UserWarning',\n",
       " 'ValueError',\n",
       " 'Warning',\n",
       " 'ZeroDivisionError',\n",
       " '__IPYTHON__',\n",
       " '__build_class__',\n",
       " '__debug__',\n",
       " '__doc__',\n",
       " '__import__',\n",
       " '__loader__',\n",
       " '__name__',\n",
       " '__package__',\n",
       " '__spec__',\n",
       " 'abs',\n",
       " 'aiter',\n",
       " 'all',\n",
       " 'anext',\n",
       " 'any',\n",
       " 'ascii',\n",
       " 'bin',\n",
       " 'bool',\n",
       " 'breakpoint',\n",
       " 'bytearray',\n",
       " 'bytes',\n",
       " 'callable',\n",
       " 'chr',\n",
       " 'classmethod',\n",
       " 'compile',\n",
       " 'complex',\n",
       " 'copyright',\n",
       " 'credits',\n",
       " 'delattr',\n",
       " 'dict',\n",
       " 'dir',\n",
       " 'display',\n",
       " 'divmod',\n",
       " 'enumerate',\n",
       " 'eval',\n",
       " 'exec',\n",
       " 'execfile',\n",
       " 'filter',\n",
       " 'float',\n",
       " 'format',\n",
       " 'frozenset',\n",
       " 'get_ipython',\n",
       " 'getattr',\n",
       " 'globals',\n",
       " 'hasattr',\n",
       " 'hash',\n",
       " 'help',\n",
       " 'hex',\n",
       " 'id',\n",
       " 'input',\n",
       " 'int',\n",
       " 'isinstance',\n",
       " 'issubclass',\n",
       " 'iter',\n",
       " 'len',\n",
       " 'license',\n",
       " 'list',\n",
       " 'locals',\n",
       " 'map',\n",
       " 'max',\n",
       " 'memoryview',\n",
       " 'min',\n",
       " 'next',\n",
       " 'object',\n",
       " 'oct',\n",
       " 'open',\n",
       " 'ord',\n",
       " 'pow',\n",
       " 'print',\n",
       " 'property',\n",
       " 'range',\n",
       " 'repr',\n",
       " 'reversed',\n",
       " 'round',\n",
       " 'runfile',\n",
       " 'set',\n",
       " 'setattr',\n",
       " 'slice',\n",
       " 'sorted',\n",
       " 'staticmethod',\n",
       " 'str',\n",
       " 'sum',\n",
       " 'super',\n",
       " 'tuple',\n",
       " 'type',\n",
       " 'vars',\n",
       " 'zip']"
      ]
     },
     "execution_count": 40,
     "metadata": {},
     "output_type": "execute_result"
    }
   ],
   "source": [
    "dir(__builtins__)"
   ]
  },
  {
   "cell_type": "code",
   "execution_count": 41,
   "id": "39aee1d1",
   "metadata": {},
   "outputs": [
    {
     "ename": "SyntaxError",
     "evalue": "invalid syntax (3080381167.py, line 1)",
     "output_type": "error",
     "traceback": [
      "\u001b[0;36m  Cell \u001b[0;32mIn[41], line 1\u001b[0;36m\u001b[0m\n\u001b[0;31m    dir(global)\u001b[0m\n\u001b[0m        ^\u001b[0m\n\u001b[0;31mSyntaxError\u001b[0m\u001b[0;31m:\u001b[0m invalid syntax\n"
     ]
    }
   ],
   "source": []
  },
  {
   "cell_type": "code",
   "execution_count": null,
   "id": "81aa5f2e",
   "metadata": {},
   "outputs": [],
   "source": []
  }
 ],
 "metadata": {
  "kernelspec": {
   "display_name": "Python 3 (ipykernel)",
   "language": "python",
   "name": "python3"
  },
  "language_info": {
   "codemirror_mode": {
    "name": "ipython",
    "version": 3
   },
   "file_extension": ".py",
   "mimetype": "text/x-python",
   "name": "python",
   "nbconvert_exporter": "python",
   "pygments_lexer": "ipython3",
   "version": "3.11.0"
  }
 },
 "nbformat": 4,
 "nbformat_minor": 5
}
