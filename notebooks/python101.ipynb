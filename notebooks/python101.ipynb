{
 "cells": [
  {
   "cell_type": "code",
   "execution_count": 1,
   "id": "164e60a1",
   "metadata": {},
   "outputs": [],
   "source": [
    "# High level programming language with dynamic symantics\n",
    "# supports both scripting and oops\n",
    "# everything in. python is a object\n",
    "# when you create variable you are creating some instance of class\n"
   ]
  },
  {
   "cell_type": "code",
   "execution_count": 2,
   "id": "efea6f65",
   "metadata": {},
   "outputs": [],
   "source": [
    "# we have two indexes setup when installing python packages\n",
    "# one with company and a public available one\n"
   ]
  },
  {
   "cell_type": "code",
   "execution_count": 3,
   "id": "a95c48f7",
   "metadata": {},
   "outputs": [],
   "source": [
    "# GIL\n",
    "# dynamically typed\n",
    "# Interpretable\n"
   ]
  },
  {
   "cell_type": "markdown",
   "id": "96abe76a",
   "metadata": {},
   "source": [
    "Optional[...] is a shorthand notation for Union[..., None], telling the type checker that either an object of the specific type is required, or None is required. ... stands for any valid type hint, including complex compound types or a Union[] of more types. Whenever you have a keyword argument with default value None, you should use Optional. (Note: If you are targeting Python 3.10 or newer, PEP 604 introduced a better syntax, see below).\n",
    "\n",
    "So for your two examples, you have dict and list container types, but the default value for the a keyword argument shows that None is permitted too so use Optional[...]:"
   ]
  },
  {
   "cell_type": "code",
   "execution_count": 6,
   "id": "b449153c",
   "metadata": {},
   "outputs": [],
   "source": [
    "from typing import Optional\n",
    "\n",
    "def test(a: Optional[dict] = None) -> None:\n",
    "    #print(a) ==> {'a': 1234}\n",
    "    #or\n",
    "    print(a)\n",
    "\n",
    "def test(a: Optional[list] = None) -> None:\n",
    "    #print(a) ==> [1, 2, 3, 4, 'a', 'b']\n",
    "    #or\n",
    "    print(a)"
   ]
  },
  {
   "cell_type": "code",
   "execution_count": 7,
   "id": "101811ab",
   "metadata": {},
   "outputs": [],
   "source": [
    "# Namespaces in python are inmpleted using hashmaps\n",
    "# or say python dict\n",
    "# Two keywords that came into picture with scopes is \n",
    "# nonlocal\n",
    "#global\n"
   ]
  },
  {
   "cell_type": "code",
   "execution_count": 8,
   "id": "904507ab",
   "metadata": {},
   "outputs": [],
   "source": [
    "# A namespace is a mapping from names to objects.\n",
    "\n",
    "# So lets take an example for this\n",
    "\n",
    "my_name='Nitesh'"
   ]
  },
  {
   "cell_type": "code",
   "execution_count": 9,
   "id": "c6658818",
   "metadata": {},
   "outputs": [],
   "source": [
    "# Using id() function\n",
    "# Using addressof() function\n",
    "# Using hex() function"
   ]
  },
  {
   "cell_type": "code",
   "execution_count": 12,
   "id": "d5b50a38",
   "metadata": {},
   "outputs": [
    {
     "data": {
      "text/plain": [
       "'0x1072cb270'"
      ]
     },
     "execution_count": 12,
     "metadata": {},
     "output_type": "execute_result"
    }
   ],
   "source": [
    "hex(id(my_name))"
   ]
  },
  {
   "cell_type": "code",
   "execution_count": 15,
   "id": "679001d3",
   "metadata": {},
   "outputs": [
    {
     "data": {
      "text/plain": [
       "4754844058827023851"
      ]
     },
     "execution_count": 15,
     "metadata": {},
     "output_type": "execute_result"
    }
   ],
   "source": [
    "hash(my_name)\n",
    "# pytohn hash function uses MD5 Hashing Algorithm"
   ]
  },
  {
   "cell_type": "markdown",
   "id": "bf907471",
   "metadata": {},
   "source": [
    "As Tim Peters suggests, namespaces aren’t just great. They’re honking great, and Python uses them extensively. In a Python program, there are four types of namespaces:\n",
    "\n",
    "+ Built-In\n",
    "+ Global\n",
    "+ Enclosing\n",
    "+ Local\n",
    "\n",
    "* These have differing lifetimes. As Python executes a program, it creates namespaces as necessary and deletes them when they’re no longer needed. Typically, many namespaces will exist at any given time."
   ]
  },
  {
   "cell_type": "code",
   "execution_count": 16,
   "id": "a567f1dc",
   "metadata": {},
   "outputs": [
    {
     "data": {
      "text/plain": [
       "<function __main__.test(a: Optional[list] = None) -> None>"
      ]
     },
     "execution_count": 16,
     "metadata": {},
     "output_type": "execute_result"
    }
   ],
   "source": [
    "test"
   ]
  },
  {
   "cell_type": "code",
   "execution_count": 18,
   "id": "e1c2cd57",
   "metadata": {},
   "outputs": [],
   "source": [
    "# functions in python are first class objects\n",
    "# in other words one can use functions like any other objects in python"
   ]
  },
  {
   "cell_type": "markdown",
   "id": "ba5c5fba",
   "metadata": {},
   "source": [
    "Examples of namespaces are: the set of built-in names (containing functions such as abs(), and built-in exception names); the global names in a module; and the local names in a function invocation. In a sense the set of attributes of an object also form a namespace. The important thing to know about namespaces is that there is absolutely no relation between names in different namespaces; for instance, two different modules may both define a function maximize without confusion — users of the modules must prefix it with the module name."
   ]
  },
  {
   "cell_type": "code",
   "execution_count": 19,
   "id": "013633b3",
   "metadata": {},
   "outputs": [],
   "source": [
    "# the below example shows a great example for scopes in python"
   ]
  },
  {
   "cell_type": "code",
   "execution_count": 20,
   "id": "9b683e4b",
   "metadata": {},
   "outputs": [
    {
     "name": "stdout",
     "output_type": "stream",
     "text": [
      "After local assignment: test spam\n",
      "After nonlocal assignment: nonlocal spam\n",
      "After global assignment: nonlocal spam\n",
      "In global scope: global spam\n"
     ]
    }
   ],
   "source": [
    "def scope_test():\n",
    "    def do_local():\n",
    "        spam = \"local spam\"\n",
    "\n",
    "    def do_nonlocal():\n",
    "        nonlocal spam\n",
    "        spam = \"nonlocal spam\"\n",
    "\n",
    "    def do_global():\n",
    "        global spam\n",
    "        spam = \"global spam\"\n",
    "\n",
    "    spam = \"test spam\"\n",
    "    do_local()\n",
    "    print(\"After local assignment:\", spam)\n",
    "    do_nonlocal()\n",
    "    print(\"After nonlocal assignment:\", spam)\n",
    "    do_global()\n",
    "    print(\"After global assignment:\", spam)\n",
    "\n",
    "scope_test()\n",
    "print(\"In global scope:\", spam)"
   ]
  },
  {
   "cell_type": "code",
   "execution_count": 21,
   "id": "349b2693",
   "metadata": {},
   "outputs": [],
   "source": [
    "# OOPS\n",
    "# Object oriented programming"
   ]
  },
  {
   "cell_type": "code",
   "execution_count": 22,
   "id": "89cf026c",
   "metadata": {},
   "outputs": [],
   "source": [
    "# Repeating again \n",
    "# eveything in python is an object"
   ]
  },
  {
   "cell_type": "code",
   "execution_count": 24,
   "id": "b924ad38",
   "metadata": {},
   "outputs": [],
   "source": [
    "# defining Class\n",
    "# class is a blueprint for any object that needs to created\n",
    "# And a object is a instance of that class\n"
   ]
  },
  {
   "cell_type": "code",
   "execution_count": 25,
   "id": "97fb2018",
   "metadata": {},
   "outputs": [],
   "source": [
    "# After python3.6 classes can be written as "
   ]
  },
  {
   "cell_type": "code",
   "execution_count": 30,
   "id": "d053d475",
   "metadata": {},
   "outputs": [],
   "source": [
    "class Animal:\n",
    "    def __init__(self,name:str='Dog')->None:\n",
    "        self._name=name\n",
    "        self.__name=name+' private_variable'"
   ]
  },
  {
   "cell_type": "code",
   "execution_count": 31,
   "id": "9ee694d8",
   "metadata": {},
   "outputs": [],
   "source": [
    "a1=Animal('Lion')"
   ]
  },
  {
   "cell_type": "code",
   "execution_count": 32,
   "id": "1f6d12ae",
   "metadata": {},
   "outputs": [
    {
     "ename": "AttributeError",
     "evalue": "'Animal' object has no attribute 'name'",
     "output_type": "error",
     "traceback": [
      "\u001b[0;31m---------------------------------------------------------------------------\u001b[0m",
      "\u001b[0;31mAttributeError\u001b[0m                            Traceback (most recent call last)",
      "Cell \u001b[0;32mIn[32], line 1\u001b[0m\n\u001b[0;32m----> 1\u001b[0m \u001b[43ma1\u001b[49m\u001b[38;5;241;43m.\u001b[39;49m\u001b[43mname\u001b[49m\n",
      "\u001b[0;31mAttributeError\u001b[0m: 'Animal' object has no attribute 'name'"
     ]
    }
   ],
   "source": [
    "a1.name"
   ]
  },
  {
   "cell_type": "code",
   "execution_count": 33,
   "id": "4d58c99c",
   "metadata": {},
   "outputs": [
    {
     "data": {
      "text/plain": [
       "'Lion'"
      ]
     },
     "execution_count": 33,
     "metadata": {},
     "output_type": "execute_result"
    }
   ],
   "source": [
    "a1._name"
   ]
  },
  {
   "cell_type": "code",
   "execution_count": 34,
   "id": "685bf862",
   "metadata": {},
   "outputs": [
    {
     "ename": "AttributeError",
     "evalue": "'Animal' object has no attribute '__name'",
     "output_type": "error",
     "traceback": [
      "\u001b[0;31m---------------------------------------------------------------------------\u001b[0m",
      "\u001b[0;31mAttributeError\u001b[0m                            Traceback (most recent call last)",
      "Cell \u001b[0;32mIn[34], line 1\u001b[0m\n\u001b[0;32m----> 1\u001b[0m \u001b[43ma1\u001b[49m\u001b[38;5;241;43m.\u001b[39;49m\u001b[43m__name\u001b[49m\n",
      "\u001b[0;31mAttributeError\u001b[0m: 'Animal' object has no attribute '__name'"
     ]
    }
   ],
   "source": [
    "a1.__name"
   ]
  },
  {
   "cell_type": "markdown",
   "id": "e3874773",
   "metadata": {},
   "source": [
    "there is no concept of encapsulation with python as all varibles within a class or can be accesed by any class or any subclass"
   ]
  },
  {
   "cell_type": "code",
   "execution_count": 38,
   "id": "06c829ee",
   "metadata": {},
   "outputs": [],
   "source": [
    "# private varibales \n",
    "# can only be accessed within a class\n",
    "# protected variables \n",
    "# can be accsed by subclasses "
   ]
  },
  {
   "cell_type": "code",
   "execution_count": 39,
   "id": "452d4fbc",
   "metadata": {},
   "outputs": [],
   "source": [
    "# private variables are written as __variableName\n",
    "# protected variables are written as _variableName"
   ]
  },
  {
   "cell_type": "code",
   "execution_count": 40,
   "id": "e58d023d",
   "metadata": {},
   "outputs": [
    {
     "data": {
      "text/plain": [
       "['ArithmeticError',\n",
       " 'AssertionError',\n",
       " 'AttributeError',\n",
       " 'BaseException',\n",
       " 'BaseExceptionGroup',\n",
       " 'BlockingIOError',\n",
       " 'BrokenPipeError',\n",
       " 'BufferError',\n",
       " 'BytesWarning',\n",
       " 'ChildProcessError',\n",
       " 'ConnectionAbortedError',\n",
       " 'ConnectionError',\n",
       " 'ConnectionRefusedError',\n",
       " 'ConnectionResetError',\n",
       " 'DeprecationWarning',\n",
       " 'EOFError',\n",
       " 'Ellipsis',\n",
       " 'EncodingWarning',\n",
       " 'EnvironmentError',\n",
       " 'Exception',\n",
       " 'ExceptionGroup',\n",
       " 'False',\n",
       " 'FileExistsError',\n",
       " 'FileNotFoundError',\n",
       " 'FloatingPointError',\n",
       " 'FutureWarning',\n",
       " 'GeneratorExit',\n",
       " 'IOError',\n",
       " 'ImportError',\n",
       " 'ImportWarning',\n",
       " 'IndentationError',\n",
       " 'IndexError',\n",
       " 'InterruptedError',\n",
       " 'IsADirectoryError',\n",
       " 'KeyError',\n",
       " 'KeyboardInterrupt',\n",
       " 'LookupError',\n",
       " 'MemoryError',\n",
       " 'ModuleNotFoundError',\n",
       " 'NameError',\n",
       " 'None',\n",
       " 'NotADirectoryError',\n",
       " 'NotImplemented',\n",
       " 'NotImplementedError',\n",
       " 'OSError',\n",
       " 'OverflowError',\n",
       " 'PendingDeprecationWarning',\n",
       " 'PermissionError',\n",
       " 'ProcessLookupError',\n",
       " 'RecursionError',\n",
       " 'ReferenceError',\n",
       " 'ResourceWarning',\n",
       " 'RuntimeError',\n",
       " 'RuntimeWarning',\n",
       " 'StopAsyncIteration',\n",
       " 'StopIteration',\n",
       " 'SyntaxError',\n",
       " 'SyntaxWarning',\n",
       " 'SystemError',\n",
       " 'SystemExit',\n",
       " 'TabError',\n",
       " 'TimeoutError',\n",
       " 'True',\n",
       " 'TypeError',\n",
       " 'UnboundLocalError',\n",
       " 'UnicodeDecodeError',\n",
       " 'UnicodeEncodeError',\n",
       " 'UnicodeError',\n",
       " 'UnicodeTranslateError',\n",
       " 'UnicodeWarning',\n",
       " 'UserWarning',\n",
       " 'ValueError',\n",
       " 'Warning',\n",
       " 'ZeroDivisionError',\n",
       " '__IPYTHON__',\n",
       " '__build_class__',\n",
       " '__debug__',\n",
       " '__doc__',\n",
       " '__import__',\n",
       " '__loader__',\n",
       " '__name__',\n",
       " '__package__',\n",
       " '__spec__',\n",
       " 'abs',\n",
       " 'aiter',\n",
       " 'all',\n",
       " 'anext',\n",
       " 'any',\n",
       " 'ascii',\n",
       " 'bin',\n",
       " 'bool',\n",
       " 'breakpoint',\n",
       " 'bytearray',\n",
       " 'bytes',\n",
       " 'callable',\n",
       " 'chr',\n",
       " 'classmethod',\n",
       " 'compile',\n",
       " 'complex',\n",
       " 'copyright',\n",
       " 'credits',\n",
       " 'delattr',\n",
       " 'dict',\n",
       " 'dir',\n",
       " 'display',\n",
       " 'divmod',\n",
       " 'enumerate',\n",
       " 'eval',\n",
       " 'exec',\n",
       " 'execfile',\n",
       " 'filter',\n",
       " 'float',\n",
       " 'format',\n",
       " 'frozenset',\n",
       " 'get_ipython',\n",
       " 'getattr',\n",
       " 'globals',\n",
       " 'hasattr',\n",
       " 'hash',\n",
       " 'help',\n",
       " 'hex',\n",
       " 'id',\n",
       " 'input',\n",
       " 'int',\n",
       " 'isinstance',\n",
       " 'issubclass',\n",
       " 'iter',\n",
       " 'len',\n",
       " 'license',\n",
       " 'list',\n",
       " 'locals',\n",
       " 'map',\n",
       " 'max',\n",
       " 'memoryview',\n",
       " 'min',\n",
       " 'next',\n",
       " 'object',\n",
       " 'oct',\n",
       " 'open',\n",
       " 'ord',\n",
       " 'pow',\n",
       " 'print',\n",
       " 'property',\n",
       " 'range',\n",
       " 'repr',\n",
       " 'reversed',\n",
       " 'round',\n",
       " 'runfile',\n",
       " 'set',\n",
       " 'setattr',\n",
       " 'slice',\n",
       " 'sorted',\n",
       " 'staticmethod',\n",
       " 'str',\n",
       " 'sum',\n",
       " 'super',\n",
       " 'tuple',\n",
       " 'type',\n",
       " 'vars',\n",
       " 'zip']"
      ]
     },
     "execution_count": 40,
     "metadata": {},
     "output_type": "execute_result"
    }
   ],
   "source": [
    "dir(__builtins__)"
   ]
  },
  {
   "cell_type": "code",
   "execution_count": 44,
   "id": "e36e76eb",
   "metadata": {},
   "outputs": [
    {
     "name": "stdout",
     "output_type": "stream",
     "text": [
      "[main 79768a4] had a brief intro to classes and namespaces again with python\n",
      " Committer: Nitesh Kumar Gupta <nitesh@SezazAir2.aganitha.ai>\n",
      "Your name and email address were configured automatically based\n",
      "on your username and hostname. Please check that they are accurate.\n",
      "You can suppress this message by setting them explicitly:\n",
      "\n",
      "    git config --global user.name \"Your Name\"\n",
      "    git config --global user.email you@example.com\n",
      "\n",
      "After doing this, you may fix the identity used for this commit with:\n",
      "\n",
      "    git commit --amend --reset-author\n",
      "\n",
      " 1 file changed, 585 insertions(+), 4 deletions(-)\n"
     ]
    },
    {
     "data": {
      "text/plain": [
       "0"
      ]
     },
     "execution_count": 44,
     "metadata": {},
     "output_type": "execute_result"
    }
   ],
   "source": [
    "import os\n",
    "os.system('git add . && git commit -m \"had a brief intro to classes and namespaces again with python\" ' )"
   ]
  },
  {
   "cell_type": "code",
   "execution_count": 45,
   "id": "10a6a898",
   "metadata": {},
   "outputs": [
    {
     "name": "stdout",
     "output_type": "stream",
     "text": [
      "branch 'main' set up to track 'origin/main'.\n"
     ]
    },
    {
     "name": "stderr",
     "output_type": "stream",
     "text": [
      "To github.com:nitesh-acog/python101.git\n",
      "   5715600..79768a4  main -> main\n"
     ]
    },
    {
     "data": {
      "text/plain": [
       "0"
      ]
     },
     "execution_count": 45,
     "metadata": {},
     "output_type": "execute_result"
    }
   ],
   "source": [
    "os.system('git push -u origin main')"
   ]
  },
  {
   "cell_type": "code",
   "execution_count": 46,
   "id": "ebf2c2c9",
   "metadata": {},
   "outputs": [],
   "source": [
    "# Just a reminder namespaces in python are simply mapping from names to objects in memory using hashmaps"
   ]
  },
  {
   "cell_type": "code",
   "execution_count": 60,
   "id": "3478a498",
   "metadata": {},
   "outputs": [],
   "source": [
    "class name:\n",
    "    num=0\n",
    "    def __init__(self):\n",
    "        self.num+=1"
   ]
  },
  {
   "cell_type": "code",
   "execution_count": 61,
   "id": "e016f048",
   "metadata": {},
   "outputs": [],
   "source": [
    "# name variable seen within the above class is called class variable or instance variables\n",
    "# a instance variable can be accessed by all instances of that class\n"
   ]
  },
  {
   "cell_type": "code",
   "execution_count": 62,
   "id": "cead678f",
   "metadata": {},
   "outputs": [],
   "source": [
    "n1=name()"
   ]
  },
  {
   "cell_type": "code",
   "execution_count": 63,
   "id": "a570391d",
   "metadata": {},
   "outputs": [],
   "source": [
    "n2=name()"
   ]
  },
  {
   "cell_type": "code",
   "execution_count": 65,
   "id": "aa7eb2f0",
   "metadata": {},
   "outputs": [],
   "source": [
    "class Reverse:\n",
    "    \"\"\"Iterator for looping over a sequence backwards.\"\"\"\n",
    "    def __init__(self, data):\n",
    "        self.data = data\n",
    "        self.index = len(data)\n",
    "\n",
    "    def __iter__(self):\n",
    "        return self\n",
    "\n",
    "    def __next__(self):\n",
    "        if self.index == 0:\n",
    "            raise StopIteration\n",
    "        self.index = self.index - 1\n",
    "        return self.data[self.index]"
   ]
  },
  {
   "cell_type": "code",
   "execution_count": 66,
   "id": "30f86120",
   "metadata": {},
   "outputs": [],
   "source": [
    "# internally for loop is implemented as iter() and next()\n"
   ]
  },
  {
   "cell_type": "markdown",
   "id": "558f6c00",
   "metadata": {},
   "source": [
    "Generators are a simple and powerful tool for creating iterators. They are written like regular functions but use the yield statement whenever they want to return data. Each time next() is called on it, the generator resumes where it left off (it remembers all the data values and which statement was last executed). An example shows that generators can be trivially easy to create:"
   ]
  },
  {
   "cell_type": "code",
   "execution_count": 67,
   "id": "340a8273",
   "metadata": {},
   "outputs": [],
   "source": [
    "def reverse(data):\n",
    "    for index in range(len(data)-1, -1, -1):\n",
    "        yield data[index]"
   ]
  },
  {
   "cell_type": "code",
   "execution_count": 68,
   "id": "a1585b58",
   "metadata": {},
   "outputs": [],
   "source": [
    "# Just a reminder \n",
    "# almost any task in prograaming can be bolied down to recursion problem\n"
   ]
  },
  {
   "cell_type": "markdown",
   "id": "f73c60d9",
   "metadata": {},
   "source": [
    "# User Guide for Python Packaging"
   ]
  },
  {
   "cell_type": "code",
   "execution_count": 69,
   "id": "cfd817a2",
   "metadata": {},
   "outputs": [
    {
     "ename": "SyntaxError",
     "evalue": "invalid character '├' (U+251C) (2135175848.py, line 2)",
     "output_type": "error",
     "traceback": [
      "\u001b[0;36m  Cell \u001b[0;32mIn[69], line 2\u001b[0;36m\u001b[0m\n\u001b[0;31m    ├── LICENSE\u001b[0m\n\u001b[0m    ^\u001b[0m\n\u001b[0;31mSyntaxError\u001b[0m\u001b[0;31m:\u001b[0m invalid character '├' (U+251C)\n"
     ]
    }
   ],
   "source": [
    "packaging_tutorial/\n",
    "├── LICENSE\n",
    "├── pyproject.toml\n",
    "├── README.md\n",
    "├── src/\n",
    "│   └── example_package_YOUR_USERNAME_HERE/\n",
    "│       ├── __init__.py\n",
    "│       └── example.py\n",
    "└── tests/"
   ]
  },
  {
   "cell_type": "code",
   "execution_count": 70,
   "id": "8f39111f",
   "metadata": {},
   "outputs": [],
   "source": [
    "# abstract classes form base class | or say they act as templates for classes"
   ]
  },
  {
   "cell_type": "markdown",
   "id": "1a2b184e",
   "metadata": {},
   "source": [
    "Frameworks expecting callback functions of specific signatures might be type hinted using Callable[[Arg1Type, Arg2Type], ReturnType]."
   ]
  },
  {
   "cell_type": "code",
   "execution_count": 71,
   "id": "f2aa7947",
   "metadata": {},
   "outputs": [
    {
     "ename": "IndentationError",
     "evalue": "expected an indented block after function definition on line 3 (4123380205.py, line 6)",
     "output_type": "error",
     "traceback": [
      "\u001b[0;36m  Cell \u001b[0;32mIn[71], line 6\u001b[0;36m\u001b[0m\n\u001b[0;31m    def async_query(on_success: Callable[[int], None],\u001b[0m\n\u001b[0m    ^\u001b[0m\n\u001b[0;31mIndentationError\u001b[0m\u001b[0;31m:\u001b[0m expected an indented block after function definition on line 3\n"
     ]
    }
   ],
   "source": [
    "from collections.abc import Callable\n",
    "\n",
    "def feeder(get_next_item: Callable[[], str]) -> None:\n",
    "    # Body\n",
    "\n",
    "def async_query(on_success: Callable[[int], None],\n",
    "                on_error: Callable[[int, Exception], None]) -> None:\n",
    "    # Body\n",
    "\n",
    "async def on_update(value: str) -> None:\n",
    "    # Body\n",
    "callback: Callable[[str], Awaitable[None]] = on_update"
   ]
  },
  {
   "cell_type": "code",
   "execution_count": 72,
   "id": "8cc2f1dc",
   "metadata": {},
   "outputs": [],
   "source": [
    "# logging to machines\n",
    "# ssh user@ip \n",
    "# ssh (secure shell)"
   ]
  },
  {
   "cell_type": "code",
   "execution_count": 73,
   "id": "24a86d58",
   "metadata": {},
   "outputs": [],
   "source": [
    "# symmetric key encryption\n",
    "# use the same key for encrytion and decrytion\n",
    "# PKI ( public key infrastructure)\n",
    "# ssh-keygen -t rsa\n",
    "# the above command creates a key using rsa algorithm\n",
    "# hidden dir in home folder\n",
    "# id_rsa.pub is the public key\n",
    "# id_rsa is the private key\n",
    "# ssh -vv user@ip\n",
    "#. verbose\n",
    "# if username is not specified it takes from your home dir user"
   ]
  },
  {
   "cell_type": "code",
   "execution_count": 74,
   "id": "1784bc3d",
   "metadata": {},
   "outputs": [],
   "source": [
    "# LDAP (light weight idrectory authentication protocol)"
   ]
  },
  {
   "cell_type": "code",
   "execution_count": 75,
   "id": "dab6a2f9",
   "metadata": {},
   "outputs": [],
   "source": [
    "# I need to connect to all the 100 machines in the company copying pub keys to all 100 machines is not feasible\n",
    "# we use LDAP for that"
   ]
  },
  {
   "cell_type": "code",
   "execution_count": 76,
   "id": "5aa124aa",
   "metadata": {},
   "outputs": [],
   "source": [
    "# same thing we do for github \n",
    "# we can paste a pub_key in github"
   ]
  },
  {
   "cell_type": "code",
   "execution_count": 77,
   "id": "f5c93997",
   "metadata": {},
   "outputs": [],
   "source": [
    "# this will be only possible when both server and client have ssh client/tool\n",
    "# a simple task is sent to server encypted with your private key and if  publickey is able to decrypt it it is authenticated"
   ]
  },
  {
   "cell_type": "code",
   "execution_count": 78,
   "id": "baf9a295",
   "metadata": {},
   "outputs": [],
   "source": [
    "# ssl (secure socket layer)\n",
    "# ssh (secure shell) (ssh leverages ssl/tls for connection)\n",
    "# tls ( transport layer security)\n"
   ]
  },
  {
   "cell_type": "code",
   "execution_count": 79,
   "id": "c9c9503a",
   "metadata": {},
   "outputs": [],
   "source": [
    "# spaces are evil fo command for programmers\n",
    "# write with _ dont give spaces\n",
    "# GNU organization provided a standard and is the author many commands\n",
    "\n",
    "# "
   ]
  },
  {
   "cell_type": "code",
   "execution_count": 80,
   "id": "ea7d6071",
   "metadata": {},
   "outputs": [],
   "source": [
    "# Evrything in linux is a file\n",
    "# shell provides an interface to kernel"
   ]
  },
  {
   "cell_type": "code",
   "execution_count": 81,
   "id": "dc855ebf",
   "metadata": {},
   "outputs": [],
   "source": [
    "# grep --help\n",
    "# eveything in box is optional"
   ]
  },
  {
   "cell_type": "code",
   "execution_count": 82,
   "id": "b44f9693",
   "metadata": {},
   "outputs": [],
   "source": [
    "# grep keyword file1 file2 > file.txt"
   ]
  },
  {
   "cell_type": "code",
   "execution_count": 83,
   "id": "1ddb80d8",
   "metadata": {},
   "outputs": [],
   "source": [
    "# > overwrite\n",
    "# >> appends\n",
    "# passing the streams in command line to a file\n",
    "# when something is shown on console it flushed from memory"
   ]
  },
  {
   "cell_type": "code",
   "execution_count": 84,
   "id": "50ebcdc5",
   "metadata": {},
   "outputs": [],
   "source": [
    "# if a command ends with a '&' , run in background\n"
   ]
  },
  {
   "cell_type": "code",
   "execution_count": 85,
   "id": "e516dd79",
   "metadata": {},
   "outputs": [],
   "source": [
    "# nohup ( no hangup)\n",
    "# nohup command --option \n",
    "# The above is used when using a server\n",
    "# in any case if connection is cut / the command still needs to run / if we dont use nohup connection cut would kill the process"
   ]
  },
  {
   "cell_type": "code",
   "execution_count": 86,
   "id": "dcbb4fa6",
   "metadata": {},
   "outputs": [],
   "source": [
    "# nohup grep pattern file1 file2 & \n",
    "# in this case the stream by default goes to nohup.txt\n"
   ]
  },
  {
   "cell_type": "code",
   "execution_count": 87,
   "id": "99117925",
   "metadata": {},
   "outputs": [],
   "source": [
    "# 0: stdin\n",
    "# 1: stdout\n",
    "# 2: stderr\n"
   ]
  },
  {
   "cell_type": "code",
   "execution_count": 90,
   "id": "bfdd8f76",
   "metadata": {},
   "outputs": [],
   "source": [
    "# 1> redirect stdout \n",
    "# 2> redirect stderr\n",
    "# >> append"
   ]
  },
  {
   "cell_type": "code",
   "execution_count": 96,
   "id": "90c20777",
   "metadata": {},
   "outputs": [],
   "source": [
    "# grep pattern file1 1> file.txt 2> err.txt\n",
    "# grep pattern file1 1> file.txt 2>&1 (if you want redirect in same file as stdout)"
   ]
  },
  {
   "cell_type": "code",
   "execution_count": 97,
   "id": "1e03817a",
   "metadata": {},
   "outputs": [],
   "source": [
    "# type the word env in linux terminal"
   ]
  },
  {
   "cell_type": "code",
   "execution_count": 98,
   "id": "499fc0e5",
   "metadata": {},
   "outputs": [],
   "source": [
    "# an environment in simple terms is a bag of key value pairs"
   ]
  },
  {
   "cell_type": "code",
   "execution_count": 99,
   "id": "3d7be488",
   "metadata": {},
   "outputs": [],
   "source": [
    "# as seen in terminal"
   ]
  },
  {
   "cell_type": "code",
   "execution_count": null,
   "id": "522865a2",
   "metadata": {},
   "outputs": [],
   "source": []
  }
 ],
 "metadata": {
  "kernelspec": {
   "display_name": "Python 3 (ipykernel)",
   "language": "python",
   "name": "python3"
  },
  "language_info": {
   "codemirror_mode": {
    "name": "ipython",
    "version": 3
   },
   "file_extension": ".py",
   "mimetype": "text/x-python",
   "name": "python",
   "nbconvert_exporter": "python",
   "pygments_lexer": "ipython3",
   "version": "3.11.0"
  }
 },
 "nbformat": 4,
 "nbformat_minor": 5
}
