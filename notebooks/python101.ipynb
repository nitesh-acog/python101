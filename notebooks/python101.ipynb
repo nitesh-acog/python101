{
 "cells": [
  {
   "cell_type": "code",
   "execution_count": 1,
   "id": "29b15f7c",
   "metadata": {},
   "outputs": [],
   "source": [
    "# High level programming language with dynamic symantics\n",
    "# supports both scripting and oops\n",
    "# everything in. python is a object\n",
    "# when you create variable you are creating some instance of class\n"
   ]
  },
  {
   "cell_type": "code",
   "execution_count": 2,
   "id": "dbd0048c",
   "metadata": {},
   "outputs": [],
   "source": [
    "# we have two indexes setup when installing python packages\n",
    "# one with company and a public available one\n"
   ]
  },
  {
   "cell_type": "code",
   "execution_count": 3,
   "id": "f2017a65",
   "metadata": {},
   "outputs": [],
   "source": [
    "# GIL\n",
    "# dynamically typed\n",
    "# Interpretable\n"
   ]
  },
  {
   "cell_type": "markdown",
   "id": "8536b90c",
   "metadata": {},
   "source": [
    "Optional[...] is a shorthand notation for Union[..., None], telling the type checker that either an object of the specific type is required, or None is required. ... stands for any valid type hint, including complex compound types or a Union[] of more types. Whenever you have a keyword argument with default value None, you should use Optional. (Note: If you are targeting Python 3.10 or newer, PEP 604 introduced a better syntax, see below).\n",
    "\n",
    "So for your two examples, you have dict and list container types, but the default value for the a keyword argument shows that None is permitted too so use Optional[...]:"
   ]
  },
  {
   "cell_type": "code",
   "execution_count": 6,
   "id": "b73c13e6",
   "metadata": {},
   "outputs": [],
   "source": [
    "from typing import Optional\n",
    "\n",
    "def test(a: Optional[dict] = None) -> None:\n",
    "    #print(a) ==> {'a': 1234}\n",
    "    #or\n",
    "    print(a)\n",
    "\n",
    "def test(a: Optional[list] = None) -> None:\n",
    "    #print(a) ==> [1, 2, 3, 4, 'a', 'b']\n",
    "    #or\n",
    "    print(a)"
   ]
  },
  {
   "cell_type": "code",
   "execution_count": 7,
   "id": "b2912455",
   "metadata": {},
   "outputs": [],
   "source": [
    "# Namespaces in python are inmpleted using hashmaps\n",
    "# or say python dict\n",
    "# Two keywords that came into picture with scopes is \n",
    "# nonlocal\n",
    "#global\n"
   ]
  },
  {
   "cell_type": "code",
   "execution_count": 8,
   "id": "53e9aa66",
   "metadata": {},
   "outputs": [],
   "source": [
    "# A namespace is a mapping from names to objects.\n",
    "\n",
    "# So lets take an example for this\n",
    "\n",
    "my_name='Nitesh'"
   ]
  },
  {
   "cell_type": "code",
   "execution_count": 9,
   "id": "45f4994b",
   "metadata": {},
   "outputs": [],
   "source": [
    "# Using id() function\n",
    "# Using addressof() function\n",
    "# Using hex() function"
   ]
  },
  {
   "cell_type": "code",
   "execution_count": 12,
   "id": "55f65199",
   "metadata": {},
   "outputs": [
    {
     "data": {
      "text/plain": [
       "'0x1072cb270'"
      ]
     },
     "execution_count": 12,
     "metadata": {},
     "output_type": "execute_result"
    }
   ],
   "source": [
    "hex(id(my_name))"
   ]
  },
  {
   "cell_type": "code",
   "execution_count": 15,
   "id": "0614cc3b",
   "metadata": {},
   "outputs": [
    {
     "data": {
      "text/plain": [
       "4754844058827023851"
      ]
     },
     "execution_count": 15,
     "metadata": {},
     "output_type": "execute_result"
    }
   ],
   "source": [
    "hash(my_name)\n",
    "# pytohn hash function uses MD5 Hashing Algorithm"
   ]
  },
  {
   "cell_type": "markdown",
   "id": "0ae70014",
   "metadata": {},
   "source": [
    "As Tim Peters suggests, namespaces aren’t just great. They’re honking great, and Python uses them extensively. In a Python program, there are four types of namespaces:\n",
    "\n",
    "+ Built-In\n",
    "+ Global\n",
    "+ Enclosing\n",
    "+ Local\n",
    "\n",
    "* These have differing lifetimes. As Python executes a program, it creates namespaces as necessary and deletes them when they’re no longer needed. Typically, many namespaces will exist at any given time."
   ]
  },
  {
   "cell_type": "code",
   "execution_count": 16,
   "id": "e673f025",
   "metadata": {},
   "outputs": [
    {
     "data": {
      "text/plain": [
       "<function __main__.test(a: Optional[list] = None) -> None>"
      ]
     },
     "execution_count": 16,
     "metadata": {},
     "output_type": "execute_result"
    }
   ],
   "source": [
    "test"
   ]
  },
  {
   "cell_type": "code",
   "execution_count": 18,
   "id": "d8707f26",
   "metadata": {},
   "outputs": [],
   "source": [
    "# functions in python are first class objects\n",
    "# in other words one can use functions like any other objects in python"
   ]
  },
  {
   "cell_type": "markdown",
   "id": "991f7afa",
   "metadata": {},
   "source": [
    "Examples of namespaces are: the set of built-in names (containing functions such as abs(), and built-in exception names); the global names in a module; and the local names in a function invocation. In a sense the set of attributes of an object also form a namespace. The important thing to know about namespaces is that there is absolutely no relation between names in different namespaces; for instance, two different modules may both define a function maximize without confusion — users of the modules must prefix it with the module name."
   ]
  },
  {
   "cell_type": "code",
   "execution_count": 19,
   "id": "de65c2c9",
   "metadata": {},
   "outputs": [],
   "source": [
    "# the below example shows a great example for scopes in python"
   ]
  },
  {
   "cell_type": "code",
   "execution_count": 20,
   "id": "2ab4a1d0",
   "metadata": {},
   "outputs": [
    {
     "name": "stdout",
     "output_type": "stream",
     "text": [
      "After local assignment: test spam\n",
      "After nonlocal assignment: nonlocal spam\n",
      "After global assignment: nonlocal spam\n",
      "In global scope: global spam\n"
     ]
    }
   ],
   "source": [
    "def scope_test():\n",
    "    def do_local():\n",
    "        spam = \"local spam\"\n",
    "\n",
    "    def do_nonlocal():\n",
    "        nonlocal spam\n",
    "        spam = \"nonlocal spam\"\n",
    "\n",
    "    def do_global():\n",
    "        global spam\n",
    "        spam = \"global spam\"\n",
    "\n",
    "    spam = \"test spam\"\n",
    "    do_local()\n",
    "    print(\"After local assignment:\", spam)\n",
    "    do_nonlocal()\n",
    "    print(\"After nonlocal assignment:\", spam)\n",
    "    do_global()\n",
    "    print(\"After global assignment:\", spam)\n",
    "\n",
    "scope_test()\n",
    "print(\"In global scope:\", spam)"
   ]
  },
  {
   "cell_type": "code",
   "execution_count": 21,
   "id": "d509adeb",
   "metadata": {},
   "outputs": [],
   "source": [
    "# OOPS\n",
    "# Object oriented programming"
   ]
  },
  {
   "cell_type": "code",
   "execution_count": 22,
   "id": "400d4c10",
   "metadata": {},
   "outputs": [],
   "source": [
    "# Repeating again \n",
    "# eveything in python is an object"
   ]
  },
  {
   "cell_type": "code",
   "execution_count": 24,
   "id": "67d1a8c8",
   "metadata": {},
   "outputs": [],
   "source": [
    "# defining Class\n",
    "# class is a blueprint for any object that needs to created\n",
    "# And a object is a instance of that class\n"
   ]
  },
  {
   "cell_type": "code",
   "execution_count": 25,
   "id": "1cf512ef",
   "metadata": {},
   "outputs": [],
   "source": [
    "# After python3.6 classes can be written as "
   ]
  },
  {
   "cell_type": "code",
   "execution_count": 30,
   "id": "fe2b254f",
   "metadata": {},
   "outputs": [],
   "source": [
    "class Animal:\n",
    "    def __init__(self,name:str='Dog')->None:\n",
    "        self._name=name\n",
    "        self.__name=name+' private_variable'"
   ]
  },
  {
   "cell_type": "code",
   "execution_count": 31,
   "id": "96727228",
   "metadata": {},
   "outputs": [],
   "source": [
    "a1=Animal('Lion')"
   ]
  },
  {
   "cell_type": "code",
   "execution_count": 32,
   "id": "924ee8ed",
   "metadata": {},
   "outputs": [
    {
     "ename": "AttributeError",
     "evalue": "'Animal' object has no attribute 'name'",
     "output_type": "error",
     "traceback": [
      "\u001b[0;31m---------------------------------------------------------------------------\u001b[0m",
      "\u001b[0;31mAttributeError\u001b[0m                            Traceback (most recent call last)",
      "Cell \u001b[0;32mIn[32], line 1\u001b[0m\n\u001b[0;32m----> 1\u001b[0m \u001b[43ma1\u001b[49m\u001b[38;5;241;43m.\u001b[39;49m\u001b[43mname\u001b[49m\n",
      "\u001b[0;31mAttributeError\u001b[0m: 'Animal' object has no attribute 'name'"
     ]
    }
   ],
   "source": [
    "a1.name"
   ]
  },
  {
   "cell_type": "code",
   "execution_count": 33,
   "id": "4d4aa0bb",
   "metadata": {},
   "outputs": [
    {
     "data": {
      "text/plain": [
       "'Lion'"
      ]
     },
     "execution_count": 33,
     "metadata": {},
     "output_type": "execute_result"
    }
   ],
   "source": [
    "a1._name"
   ]
  },
  {
   "cell_type": "code",
   "execution_count": 34,
   "id": "f778a4b9",
   "metadata": {},
   "outputs": [
    {
     "ename": "AttributeError",
     "evalue": "'Animal' object has no attribute '__name'",
     "output_type": "error",
     "traceback": [
      "\u001b[0;31m---------------------------------------------------------------------------\u001b[0m",
      "\u001b[0;31mAttributeError\u001b[0m                            Traceback (most recent call last)",
      "Cell \u001b[0;32mIn[34], line 1\u001b[0m\n\u001b[0;32m----> 1\u001b[0m \u001b[43ma1\u001b[49m\u001b[38;5;241;43m.\u001b[39;49m\u001b[43m__name\u001b[49m\n",
      "\u001b[0;31mAttributeError\u001b[0m: 'Animal' object has no attribute '__name'"
     ]
    }
   ],
   "source": [
    "a1.__name"
   ]
  },
  {
   "cell_type": "markdown",
   "id": "f4517dd1",
   "metadata": {},
   "source": [
    "there is no concept of encapsulation with python as all varibles within a class or can be accesed by any class or any subclass"
   ]
  },
  {
   "cell_type": "code",
   "execution_count": 38,
   "id": "6ca7feef",
   "metadata": {},
   "outputs": [],
   "source": [
    "# private varibales \n",
    "# can only be accessed within a class\n",
    "# protected variables \n",
    "# can be accsed by subclasses "
   ]
  },
  {
   "cell_type": "code",
   "execution_count": 39,
   "id": "65b9c405",
   "metadata": {},
   "outputs": [],
   "source": [
    "# private variables are written as __variableName\n",
    "# protected variables are written as _variableName"
   ]
  },
  {
   "cell_type": "code",
   "execution_count": 40,
   "id": "326cfca3",
   "metadata": {},
   "outputs": [
    {
     "data": {
      "text/plain": [
       "['ArithmeticError',\n",
       " 'AssertionError',\n",
       " 'AttributeError',\n",
       " 'BaseException',\n",
       " 'BaseExceptionGroup',\n",
       " 'BlockingIOError',\n",
       " 'BrokenPipeError',\n",
       " 'BufferError',\n",
       " 'BytesWarning',\n",
       " 'ChildProcessError',\n",
       " 'ConnectionAbortedError',\n",
       " 'ConnectionError',\n",
       " 'ConnectionRefusedError',\n",
       " 'ConnectionResetError',\n",
       " 'DeprecationWarning',\n",
       " 'EOFError',\n",
       " 'Ellipsis',\n",
       " 'EncodingWarning',\n",
       " 'EnvironmentError',\n",
       " 'Exception',\n",
       " 'ExceptionGroup',\n",
       " 'False',\n",
       " 'FileExistsError',\n",
       " 'FileNotFoundError',\n",
       " 'FloatingPointError',\n",
       " 'FutureWarning',\n",
       " 'GeneratorExit',\n",
       " 'IOError',\n",
       " 'ImportError',\n",
       " 'ImportWarning',\n",
       " 'IndentationError',\n",
       " 'IndexError',\n",
       " 'InterruptedError',\n",
       " 'IsADirectoryError',\n",
       " 'KeyError',\n",
       " 'KeyboardInterrupt',\n",
       " 'LookupError',\n",
       " 'MemoryError',\n",
       " 'ModuleNotFoundError',\n",
       " 'NameError',\n",
       " 'None',\n",
       " 'NotADirectoryError',\n",
       " 'NotImplemented',\n",
       " 'NotImplementedError',\n",
       " 'OSError',\n",
       " 'OverflowError',\n",
       " 'PendingDeprecationWarning',\n",
       " 'PermissionError',\n",
       " 'ProcessLookupError',\n",
       " 'RecursionError',\n",
       " 'ReferenceError',\n",
       " 'ResourceWarning',\n",
       " 'RuntimeError',\n",
       " 'RuntimeWarning',\n",
       " 'StopAsyncIteration',\n",
       " 'StopIteration',\n",
       " 'SyntaxError',\n",
       " 'SyntaxWarning',\n",
       " 'SystemError',\n",
       " 'SystemExit',\n",
       " 'TabError',\n",
       " 'TimeoutError',\n",
       " 'True',\n",
       " 'TypeError',\n",
       " 'UnboundLocalError',\n",
       " 'UnicodeDecodeError',\n",
       " 'UnicodeEncodeError',\n",
       " 'UnicodeError',\n",
       " 'UnicodeTranslateError',\n",
       " 'UnicodeWarning',\n",
       " 'UserWarning',\n",
       " 'ValueError',\n",
       " 'Warning',\n",
       " 'ZeroDivisionError',\n",
       " '__IPYTHON__',\n",
       " '__build_class__',\n",
       " '__debug__',\n",
       " '__doc__',\n",
       " '__import__',\n",
       " '__loader__',\n",
       " '__name__',\n",
       " '__package__',\n",
       " '__spec__',\n",
       " 'abs',\n",
       " 'aiter',\n",
       " 'all',\n",
       " 'anext',\n",
       " 'any',\n",
       " 'ascii',\n",
       " 'bin',\n",
       " 'bool',\n",
       " 'breakpoint',\n",
       " 'bytearray',\n",
       " 'bytes',\n",
       " 'callable',\n",
       " 'chr',\n",
       " 'classmethod',\n",
       " 'compile',\n",
       " 'complex',\n",
       " 'copyright',\n",
       " 'credits',\n",
       " 'delattr',\n",
       " 'dict',\n",
       " 'dir',\n",
       " 'display',\n",
       " 'divmod',\n",
       " 'enumerate',\n",
       " 'eval',\n",
       " 'exec',\n",
       " 'execfile',\n",
       " 'filter',\n",
       " 'float',\n",
       " 'format',\n",
       " 'frozenset',\n",
       " 'get_ipython',\n",
       " 'getattr',\n",
       " 'globals',\n",
       " 'hasattr',\n",
       " 'hash',\n",
       " 'help',\n",
       " 'hex',\n",
       " 'id',\n",
       " 'input',\n",
       " 'int',\n",
       " 'isinstance',\n",
       " 'issubclass',\n",
       " 'iter',\n",
       " 'len',\n",
       " 'license',\n",
       " 'list',\n",
       " 'locals',\n",
       " 'map',\n",
       " 'max',\n",
       " 'memoryview',\n",
       " 'min',\n",
       " 'next',\n",
       " 'object',\n",
       " 'oct',\n",
       " 'open',\n",
       " 'ord',\n",
       " 'pow',\n",
       " 'print',\n",
       " 'property',\n",
       " 'range',\n",
       " 'repr',\n",
       " 'reversed',\n",
       " 'round',\n",
       " 'runfile',\n",
       " 'set',\n",
       " 'setattr',\n",
       " 'slice',\n",
       " 'sorted',\n",
       " 'staticmethod',\n",
       " 'str',\n",
       " 'sum',\n",
       " 'super',\n",
       " 'tuple',\n",
       " 'type',\n",
       " 'vars',\n",
       " 'zip']"
      ]
     },
     "execution_count": 40,
     "metadata": {},
     "output_type": "execute_result"
    }
   ],
   "source": [
    "dir(__builtins__)"
   ]
  },
  {
   "cell_type": "code",
   "execution_count": 44,
   "id": "09ee19c4",
   "metadata": {},
   "outputs": [
    {
     "name": "stdout",
     "output_type": "stream",
     "text": [
      "[main 79768a4] had a brief intro to classes and namespaces again with python\n",
      " Committer: Nitesh Kumar Gupta <nitesh@SezazAir2.aganitha.ai>\n",
      "Your name and email address were configured automatically based\n",
      "on your username and hostname. Please check that they are accurate.\n",
      "You can suppress this message by setting them explicitly:\n",
      "\n",
      "    git config --global user.name \"Your Name\"\n",
      "    git config --global user.email you@example.com\n",
      "\n",
      "After doing this, you may fix the identity used for this commit with:\n",
      "\n",
      "    git commit --amend --reset-author\n",
      "\n",
      " 1 file changed, 585 insertions(+), 4 deletions(-)\n"
     ]
    },
    {
     "data": {
      "text/plain": [
       "0"
      ]
     },
     "execution_count": 44,
     "metadata": {},
     "output_type": "execute_result"
    }
   ],
   "source": [
    "import os\n",
    "os.system('git add . && git commit -m \"had a brief intro to classes and namespaces again with python\" ' )"
   ]
  },
  {
   "cell_type": "code",
   "execution_count": 45,
   "id": "b15946d4",
   "metadata": {},
   "outputs": [
    {
     "name": "stdout",
     "output_type": "stream",
     "text": [
      "branch 'main' set up to track 'origin/main'.\n"
     ]
    },
    {
     "name": "stderr",
     "output_type": "stream",
     "text": [
      "To github.com:nitesh-acog/python101.git\n",
      "   5715600..79768a4  main -> main\n"
     ]
    },
    {
     "data": {
      "text/plain": [
       "0"
      ]
     },
     "execution_count": 45,
     "metadata": {},
     "output_type": "execute_result"
    }
   ],
   "source": [
    "os.system('git push -u origin main')"
   ]
  },
  {
   "cell_type": "code",
   "execution_count": 46,
   "id": "68b2a4a6",
   "metadata": {},
   "outputs": [],
   "source": [
    "# Just a reminder namespaces in python are simply mapping from names to objects in memory using hashmaps"
   ]
  },
  {
   "cell_type": "code",
   "execution_count": 60,
   "id": "adf73838",
   "metadata": {},
   "outputs": [],
   "source": [
    "class name:\n",
    "    num=0\n",
    "    def __init__(self):\n",
    "        self.num+=1"
   ]
  },
  {
   "cell_type": "code",
   "execution_count": 61,
   "id": "3042f334",
   "metadata": {},
   "outputs": [],
   "source": [
    "# name variable seen within the above class is called class variable or instance variables\n",
    "# a instance variable can be accessed by all instances of that class\n"
   ]
  },
  {
   "cell_type": "code",
   "execution_count": 62,
   "id": "0dc22e77",
   "metadata": {},
   "outputs": [],
   "source": [
    "n1=name()"
   ]
  },
  {
   "cell_type": "code",
   "execution_count": 63,
   "id": "ad6e3cd7",
   "metadata": {},
   "outputs": [],
   "source": [
    "n2=name()"
   ]
  },
  {
   "cell_type": "code",
   "execution_count": 65,
   "id": "8950143e",
   "metadata": {},
   "outputs": [],
   "source": [
    "class Reverse:\n",
    "    \"\"\"Iterator for looping over a sequence backwards.\"\"\"\n",
    "    def __init__(self, data):\n",
    "        self.data = data\n",
    "        self.index = len(data)\n",
    "\n",
    "    def __iter__(self):\n",
    "        return self\n",
    "\n",
    "    def __next__(self):\n",
    "        if self.index == 0:\n",
    "            raise StopIteration\n",
    "        self.index = self.index - 1\n",
    "        return self.data[self.index]"
   ]
  },
  {
   "cell_type": "code",
   "execution_count": 66,
   "id": "1433e98c",
   "metadata": {},
   "outputs": [],
   "source": [
    "# internally for loop is implemented as iter() and next()\n"
   ]
  },
  {
   "cell_type": "markdown",
   "id": "41d45033",
   "metadata": {},
   "source": [
    "Generators are a simple and powerful tool for creating iterators. They are written like regular functions but use the yield statement whenever they want to return data. Each time next() is called on it, the generator resumes where it left off (it remembers all the data values and which statement was last executed). An example shows that generators can be trivially easy to create:"
   ]
  },
  {
   "cell_type": "code",
   "execution_count": 67,
   "id": "2016a1fe",
   "metadata": {},
   "outputs": [],
   "source": [
    "def reverse(data):\n",
    "    for index in range(len(data)-1, -1, -1):\n",
    "        yield data[index]"
   ]
  },
  {
   "cell_type": "code",
   "execution_count": 68,
   "id": "b177ad44",
   "metadata": {},
   "outputs": [],
   "source": [
    "# Just a reminder \n",
    "# almost any task in prograaming can be bolied down to recursion problem\n"
   ]
  },
  {
   "cell_type": "markdown",
   "id": "440ef5ce",
   "metadata": {},
   "source": [
    "# User Guide for Python Packaging"
   ]
  },
  {
   "cell_type": "code",
   "execution_count": 69,
   "id": "ab392a5e",
   "metadata": {},
   "outputs": [
    {
     "ename": "SyntaxError",
     "evalue": "invalid character '├' (U+251C) (2135175848.py, line 2)",
     "output_type": "error",
     "traceback": [
      "\u001b[0;36m  Cell \u001b[0;32mIn[69], line 2\u001b[0;36m\u001b[0m\n\u001b[0;31m    ├── LICENSE\u001b[0m\n\u001b[0m    ^\u001b[0m\n\u001b[0;31mSyntaxError\u001b[0m\u001b[0;31m:\u001b[0m invalid character '├' (U+251C)\n"
     ]
    }
   ],
   "source": [
    "packaging_tutorial/\n",
    "├── LICENSE\n",
    "├── pyproject.toml\n",
    "├── README.md\n",
    "├── src/\n",
    "│   └── example_package_YOUR_USERNAME_HERE/\n",
    "│       ├── __init__.py\n",
    "│       └── example.py\n",
    "└── tests/"
   ]
  },
  {
   "cell_type": "code",
   "execution_count": 70,
   "id": "bc58129e",
   "metadata": {},
   "outputs": [],
   "source": [
    "# abstract classes form base class | or say they act as templates for classes"
   ]
  },
  {
   "cell_type": "markdown",
   "id": "e146f345",
   "metadata": {},
   "source": [
    "Frameworks expecting callback functions of specific signatures might be type hinted using Callable[[Arg1Type, Arg2Type], ReturnType]."
   ]
  },
  {
   "cell_type": "code",
   "execution_count": 71,
   "id": "eea002aa",
   "metadata": {},
   "outputs": [
    {
     "ename": "IndentationError",
     "evalue": "expected an indented block after function definition on line 3 (4123380205.py, line 6)",
     "output_type": "error",
     "traceback": [
      "\u001b[0;36m  Cell \u001b[0;32mIn[71], line 6\u001b[0;36m\u001b[0m\n\u001b[0;31m    def async_query(on_success: Callable[[int], None],\u001b[0m\n\u001b[0m    ^\u001b[0m\n\u001b[0;31mIndentationError\u001b[0m\u001b[0;31m:\u001b[0m expected an indented block after function definition on line 3\n"
     ]
    }
   ],
   "source": [
    "from collections.abc import Callable\n",
    "\n",
    "def feeder(get_next_item: Callable[[], str]) -> None:\n",
    "    # Body\n",
    "\n",
    "def async_query(on_success: Callable[[int], None],\n",
    "                on_error: Callable[[int, Exception], None]) -> None:\n",
    "    # Body\n",
    "\n",
    "async def on_update(value: str) -> None:\n",
    "    # Body\n",
    "callback: Callable[[str], Awaitable[None]] = on_update"
   ]
  },
  {
   "cell_type": "code",
   "execution_count": 72,
   "id": "6abc8e76",
   "metadata": {},
   "outputs": [],
   "source": [
    "# logging to machines\n",
    "# ssh user@ip \n",
    "# ssh (secure shell)"
   ]
  },
  {
   "cell_type": "code",
   "execution_count": 73,
   "id": "88c11d92",
   "metadata": {},
   "outputs": [],
   "source": [
    "# symmetric key encryption\n",
    "# use the same key for encrytion and decrytion\n",
    "# PKI ( public key infrastructure)\n",
    "# ssh-keygen -t rsa\n",
    "# the above command creates a key using rsa algorithm\n",
    "# hidden dir in home folder\n",
    "# id_rsa.pub is the public key\n",
    "# id_rsa is the private key\n",
    "# ssh -vv user@ip\n",
    "#. verbose\n",
    "# if username is not specified it takes from your home dir user"
   ]
  },
  {
   "cell_type": "code",
   "execution_count": 74,
   "id": "19086222",
   "metadata": {},
   "outputs": [],
   "source": [
    "# LDAP (light weight idrectory authentication protocol)"
   ]
  },
  {
   "cell_type": "code",
   "execution_count": 75,
   "id": "12d2448e",
   "metadata": {},
   "outputs": [],
   "source": [
    "# I need to connect to all the 100 machines in the company copying pub keys to all 100 machines is not feasible\n",
    "# we use LDAP for that"
   ]
  },
  {
   "cell_type": "code",
   "execution_count": 76,
   "id": "42d728be",
   "metadata": {},
   "outputs": [],
   "source": [
    "# same thing we do for github \n",
    "# we can paste a pub_key in github"
   ]
  },
  {
   "cell_type": "code",
   "execution_count": 77,
   "id": "5f0ec91e",
   "metadata": {},
   "outputs": [],
   "source": [
    "# this will be only possible when both server and client have ssh client/tool\n",
    "# a simple task is sent to server encypted with your private key and if  publickey is able to decrypt it it is authenticated"
   ]
  },
  {
   "cell_type": "code",
   "execution_count": 78,
   "id": "1c146e04",
   "metadata": {},
   "outputs": [],
   "source": [
    "# ssl (secure socket layer)\n",
    "# ssh (secure shell) (ssh leverages ssl/tls for connection)\n",
    "# tls ( transport layer security)\n"
   ]
  },
  {
   "cell_type": "code",
   "execution_count": 79,
   "id": "ac1b2d86",
   "metadata": {},
   "outputs": [],
   "source": [
    "# spaces are evil fo command for programmers\n",
    "# write with _ dont give spaces\n",
    "# GNU organization provided a standard and is the author many commands\n",
    "\n",
    "# "
   ]
  },
  {
   "cell_type": "code",
   "execution_count": 80,
   "id": "107df288",
   "metadata": {},
   "outputs": [],
   "source": [
    "# Evrything in linux is a file\n",
    "# shell provides an interface to kernel"
   ]
  },
  {
   "cell_type": "code",
   "execution_count": 81,
   "id": "9c2081fc",
   "metadata": {},
   "outputs": [],
   "source": [
    "# grep --help\n",
    "# eveything in box is optional"
   ]
  },
  {
   "cell_type": "code",
   "execution_count": 82,
   "id": "a4f180ec",
   "metadata": {},
   "outputs": [],
   "source": [
    "# grep keyword file1 file2 > file.txt"
   ]
  },
  {
   "cell_type": "code",
   "execution_count": 83,
   "id": "4aed5b3b",
   "metadata": {},
   "outputs": [],
   "source": [
    "# > overwrite\n",
    "# >> appends\n",
    "# passing the streams in command line to a file\n",
    "# when something is shown on console it flushed from memory"
   ]
  },
  {
   "cell_type": "code",
   "execution_count": 84,
   "id": "d719a0ad",
   "metadata": {},
   "outputs": [],
   "source": [
    "# if a command ends with a '&' , run in background\n"
   ]
  },
  {
   "cell_type": "code",
   "execution_count": 85,
   "id": "6dde3843",
   "metadata": {},
   "outputs": [],
   "source": [
    "# nohup ( no hangup)\n",
    "# nohup command --option \n",
    "# The above is used when using a server\n",
    "# in any case if connection is cut / the command still needs to run / if we dont use nohup connection cut would kill the process"
   ]
  },
  {
   "cell_type": "code",
   "execution_count": 86,
   "id": "20a9a505",
   "metadata": {},
   "outputs": [],
   "source": [
    "# nohup grep pattern file1 file2 & \n",
    "# in this case the stream by default goes to nohup.txt\n"
   ]
  },
  {
   "cell_type": "code",
   "execution_count": 87,
   "id": "8fd6aaf1",
   "metadata": {},
   "outputs": [],
   "source": [
    "# 0: stdin\n",
    "# 1: stdout\n",
    "# 2: stderr\n"
   ]
  },
  {
   "cell_type": "code",
   "execution_count": 90,
   "id": "ac848b18",
   "metadata": {},
   "outputs": [],
   "source": [
    "# 1> redirect stdout \n",
    "# 2> redirect stderr\n",
    "# >> append"
   ]
  },
  {
   "cell_type": "code",
   "execution_count": 96,
   "id": "c15a766e",
   "metadata": {},
   "outputs": [],
   "source": [
    "# grep pattern file1 1> file.txt 2> err.txt\n",
    "# grep pattern file1 1> file.txt 2>&1 (if you want redirect in same file as stdout)"
   ]
  },
  {
   "cell_type": "code",
   "execution_count": 97,
   "id": "ca21ad3c",
   "metadata": {},
   "outputs": [],
   "source": [
    "# type the word env in linux terminal"
   ]
  },
  {
   "cell_type": "code",
   "execution_count": 98,
   "id": "42703624",
   "metadata": {},
   "outputs": [],
   "source": [
    "# an environment in simple terms is a bag of key value pairs"
   ]
  },
  {
   "cell_type": "code",
   "execution_count": 99,
   "id": "54fff7f3",
   "metadata": {},
   "outputs": [],
   "source": [
    "# as seen in terminal"
   ]
  },
  {
   "cell_type": "markdown",
   "id": "024ccc7e",
   "metadata": {},
   "source": [
    "# what can go wrong in linux temirnals\n",
    "# when usign it\n"
   ]
  },
  {
   "cell_type": "code",
   "execution_count": 1,
   "id": "3eb3a7c1",
   "metadata": {},
   "outputs": [],
   "source": [
    "# There are two types of shells \n",
    "# login shells and non-login shells\n",
    "# A shell is something that provides an interface to kernel where one can instruct kernel\n",
    "# Evrything in lnux is a file\n",
    "# so when you run a command in linux it has a path described within to do stuff\n"
   ]
  },
  {
   "cell_type": "code",
   "execution_count": 2,
   "id": "718f7199",
   "metadata": {},
   "outputs": [
    {
     "name": "stdout",
     "output_type": "stream",
     "text": [
      "python101.ipynb\r\n"
     ]
    }
   ],
   "source": [
    "!ls"
   ]
  },
  {
   "cell_type": "code",
   "execution_count": 3,
   "id": "3013a0a4",
   "metadata": {},
   "outputs": [
    {
     "name": "stdout",
     "output_type": "stream",
     "text": [
      "/Users/nitesh/Documents/Projects/python101/env/bin:/Users/nitesh/.atk/bin:/Users/nitesh/.pyenv/shims:/Users/nitesh/homebrew/opt/openjdk/bin:/Users/nitesh/atk/bin:/Users/nitesh/.nvm/versions/node/v18.12.1/bin:/Users/nitesh/homebrew/bin:/Users/nitesh/homebrew/sbin:/usr/local/bin:/usr/bin:/bin:/usr/sbin:/sbin:/Applications/VMware Fusion.app/Contents/Public:/opt/X11/bin:/Users/nitesh/.atk/bin:/Users/nitesh/homebrew/opt/openjdk/bin:/Users/nitesh/atk/bin:/Users/nitesh/.nvm/versions/node/v18.12.1/bin:/Users/nitesh/homebrew/bin:/Users/nitesh/homebrew/sbin\r\n"
     ]
    }
   ],
   "source": [
    "# above we see ls ran and gave a output \n",
    "!echo $PATH"
   ]
  },
  {
   "cell_type": "code",
   "execution_count": 4,
   "id": "8d7dafff",
   "metadata": {},
   "outputs": [],
   "source": [
    "# allow me to define a path in linux\n",
    "#linux is kernel (several distributions are built round this kernel)\n",
    "# PATH is colon separated list of directories\n",
    "# How do we prepend a path\n",
    "# export PATH=/bin/something:$PATH\n",
    "# the above command should be used with when one finds a error with command not found"
   ]
  },
  {
   "cell_type": "code",
   "execution_count": 5,
   "id": "b762efe8",
   "metadata": {},
   "outputs": [],
   "source": [
    "# If you login as a user in any shell it is login shell /.bash_profile sources all commands in it before log in as user"
   ]
  },
  {
   "cell_type": "code",
   "execution_count": 6,
   "id": "19537383",
   "metadata": {},
   "outputs": [],
   "source": [
    "# type in bash and one will see a shell without any user assigned to it\n",
    "# such shells are non-login shells\n",
    "# .bashrc is the one that sources all the commands before login in a non-login shell"
   ]
  },
  {
   "cell_type": "code",
   "execution_count": 7,
   "id": "d956aebd",
   "metadata": {},
   "outputs": [
    {
     "name": "stdout",
     "output_type": "stream",
     "text": [
      "\n",
      "The default interactive shell is now zsh.\n",
      "To update your account to use zsh, please run `chsh -s /bin/zsh`.\n",
      "For more details, please visit https://support.apple.com/kb/HT208050.\n",
      "(env) %n@%m %1~ %# \n",
      "(env) %n@%m %1~ %# \n",
      "(env) %n@%m %1~ %# "
     ]
    }
   ],
   "source": [
    "# !bash"
   ]
  },
  {
   "cell_type": "code",
   "execution_count": 9,
   "id": "cebe8a3f",
   "metadata": {},
   "outputs": [],
   "source": [
    "# !top"
   ]
  },
  {
   "cell_type": "code",
   "execution_count": 10,
   "id": "d172cc82",
   "metadata": {},
   "outputs": [],
   "source": [
    "# dont run dynamic commads in notebook"
   ]
  },
  {
   "cell_type": "code",
   "execution_count": 11,
   "id": "64bf06c9",
   "metadata": {},
   "outputs": [],
   "source": [
    "# one of the most importtant env variable is PATH"
   ]
  },
  {
   "cell_type": "code",
   "execution_count": 13,
   "id": "27b5ad43",
   "metadata": {},
   "outputs": [
    {
     "name": "stdout",
     "output_type": "stream",
     "text": [
      "zsh:1: no such file or directory: /Users/nitesh/Documents/Projects/python101/env/bin:/Users/nitesh/.atk/bin:/Users/nitesh/.pyenv/shims:/Users/nitesh/homebrew/opt/openjdk/bin:/Users/nitesh/atk/bin:/Users/nitesh/.nvm/versions/node/v18.12.1/bin:/Users/nitesh/homebrew/bin:/Users/nitesh/homebrew/sbin:/usr/local/bin:/usr/bin:/bin:/usr/sbin:/sbin:/Applications/VMware Fusion.app/Contents/Public:/opt/X11/bin:/Users/nitesh/.atk/bin:/Users/nitesh/homebrew/opt/openjdk/bin:/Users/nitesh/atk/bin:/Users/nitesh/.nvm/versions/node/v18.12.1/bin:/Users/nitesh/homebrew/bin:/Users/nitesh/homebrew/sbin\r\n"
     ]
    }
   ],
   "source": [
    "!$PATH"
   ]
  },
  {
   "cell_type": "code",
   "execution_count": 14,
   "id": "b10c4194",
   "metadata": {},
   "outputs": [],
   "source": [
    "# Whenever one finds a error with command not found one should check for neccesary PATH has been set for that executable file"
   ]
  },
  {
   "cell_type": "code",
   "execution_count": 15,
   "id": "b5881d37",
   "metadata": {},
   "outputs": [],
   "source": [
    "# for example conda\n"
   ]
  },
  {
   "cell_type": "code",
   "execution_count": 17,
   "id": "ae3e2709",
   "metadata": {},
   "outputs": [
    {
     "name": "stdout",
     "output_type": "stream",
     "text": [
      "/Users/nitesh/Documents/Projects/python101/env/bin:/Users/nitesh/.atk/bin:/Users/nitesh/.pyenv/shims:/Users/nitesh/homebrew/opt/openjdk/bin:/Users/nitesh/atk/bin:/Users/nitesh/.nvm/versions/node/v18.12.1/bin:/Users/nitesh/homebrew/bin:/Users/nitesh/homebrew/sbin:/usr/local/bin:/usr/bin:/bin:/usr/sbin:/sbin:/Applications/VMware Fusion.app/Contents/Public:/opt/X11/bin:/Users/nitesh/.atk/bin:/Users/nitesh/homebrew/opt/openjdk/bin:/Users/nitesh/atk/bin:/Users/nitesh/.nvm/versions/node/v18.12.1/bin:/Users/nitesh/homebrew/bin:/Users/nitesh/homebrew/sbin\r\n"
     ]
    }
   ],
   "source": [
    "!echo $PATH\n"
   ]
  },
  {
   "cell_type": "code",
   "execution_count": 22,
   "id": "65adadaa",
   "metadata": {},
   "outputs": [
    {
     "name": "stdout",
     "output_type": "stream",
     "text": [
      "find: conda: No such file or directory\r\n"
     ]
    }
   ],
   "source": [
    "!find conda\n"
   ]
  },
  {
   "cell_type": "code",
   "execution_count": 26,
   "id": "29e73a59",
   "metadata": {},
   "outputs": [],
   "source": [
    "def run_er(num: int )-> int:\n",
    "    \n",
    "    '''\n",
    "    it just return number 7\n",
    "    \n",
    "    '''\n",
    "    return 7"
   ]
  },
  {
   "cell_type": "code",
   "execution_count": 27,
   "id": "c55ae3f9",
   "metadata": {},
   "outputs": [
    {
     "data": {
      "text/plain": [
       "'\\n    it just return number 7\\n    \\n    '"
      ]
     },
     "execution_count": 27,
     "metadata": {},
     "output_type": "execute_result"
    }
   ],
   "source": [
    "run_er.__doc__"
   ]
  },
  {
   "cell_type": "code",
   "execution_count": 28,
   "id": "41889fa4",
   "metadata": {},
   "outputs": [
    {
     "data": {
      "text/plain": [
       "['__annotations__',\n",
       " '__builtins__',\n",
       " '__call__',\n",
       " '__class__',\n",
       " '__closure__',\n",
       " '__code__',\n",
       " '__defaults__',\n",
       " '__delattr__',\n",
       " '__dict__',\n",
       " '__dir__',\n",
       " '__doc__',\n",
       " '__eq__',\n",
       " '__format__',\n",
       " '__ge__',\n",
       " '__get__',\n",
       " '__getattribute__',\n",
       " '__getstate__',\n",
       " '__globals__',\n",
       " '__gt__',\n",
       " '__hash__',\n",
       " '__init__',\n",
       " '__init_subclass__',\n",
       " '__kwdefaults__',\n",
       " '__le__',\n",
       " '__lt__',\n",
       " '__module__',\n",
       " '__name__',\n",
       " '__ne__',\n",
       " '__new__',\n",
       " '__qualname__',\n",
       " '__reduce__',\n",
       " '__reduce_ex__',\n",
       " '__repr__',\n",
       " '__setattr__',\n",
       " '__sizeof__',\n",
       " '__str__',\n",
       " '__subclasshook__']"
      ]
     },
     "execution_count": 28,
     "metadata": {},
     "output_type": "execute_result"
    }
   ],
   "source": [
    "dir(run_er)"
   ]
  },
  {
   "cell_type": "code",
   "execution_count": 29,
   "id": "1efddeb6",
   "metadata": {},
   "outputs": [],
   "source": [
    "import dis"
   ]
  },
  {
   "cell_type": "code",
   "execution_count": 30,
   "id": "5346904d",
   "metadata": {},
   "outputs": [
    {
     "name": "stdout",
     "output_type": "stream",
     "text": [
      "  1           0 RESUME                   0\n",
      "\n",
      "  7           2 LOAD_CONST               1 (7)\n",
      "              4 RETURN_VALUE\n"
     ]
    }
   ],
   "source": [
    "dis.dis(run_er)"
   ]
  },
  {
   "cell_type": "code",
   "execution_count": 31,
   "id": "ef5e31e8",
   "metadata": {},
   "outputs": [],
   "source": [
    "import typer"
   ]
  },
  {
   "cell_type": "code",
   "execution_count": 32,
   "id": "0f8b63ca",
   "metadata": {},
   "outputs": [],
   "source": [
    "# decorators "
   ]
  },
  {
   "cell_type": "code",
   "execution_count": 33,
   "id": "de580292",
   "metadata": {},
   "outputs": [],
   "source": [
    "import time"
   ]
  },
  {
   "cell_type": "code",
   "execution_count": 47,
   "id": "f99a184a",
   "metadata": {},
   "outputs": [],
   "source": [
    "def timer(func):\n",
    "    \n",
    "    def get_time_for_execution(*args,**kwargs):\n",
    "        start=time.time()\n",
    "        func(*args,**kwargs)\n",
    "        exec_time=start-time.time()\n",
    "        return exec_time\n",
    "    return get_time_for_execution\n"
   ]
  },
  {
   "cell_type": "code",
   "execution_count": 53,
   "id": "bab04f4e",
   "metadata": {},
   "outputs": [],
   "source": [
    "@timer\n",
    "@timer\n",
    "def count(num):\n",
    "    n=0\n",
    "    for _ in range(num):\n",
    "        n+=1\n",
    "    "
   ]
  },
  {
   "cell_type": "code",
   "execution_count": 55,
   "id": "bd99c956",
   "metadata": {},
   "outputs": [
    {
     "data": {
      "text/plain": [
       "-0.00019311904907226562"
      ]
     },
     "execution_count": 55,
     "metadata": {},
     "output_type": "execute_result"
    }
   ],
   "source": [
    "count(8)\n"
   ]
  },
  {
   "cell_type": "code",
   "execution_count": 1,
   "id": "980ccfcc",
   "metadata": {},
   "outputs": [],
   "source": [
    "# types of shell\n",
    "# bourne shell\n",
    "# bourne again shell\n",
    "# c Shell\n"
   ]
  },
  {
   "cell_type": "code",
   "execution_count": 2,
   "id": "62de5802",
   "metadata": {},
   "outputs": [],
   "source": [
    "# GNU created evrything from scratch and also made the Bash and entire source code open source"
   ]
  },
  {
   "cell_type": "code",
   "execution_count": 3,
   "id": "d9e9aff3",
   "metadata": {},
   "outputs": [],
   "source": [
    "# Free or any open Source sofware can never be made propieratiry"
   ]
  },
  {
   "cell_type": "code",
   "execution_count": 4,
   "id": "76e5dc53",
   "metadata": {},
   "outputs": [],
   "source": [
    "# Source ~/.zshrc (before loggiing in)"
   ]
  },
  {
   "cell_type": "code",
   "execution_count": 5,
   "id": "95066de7",
   "metadata": {},
   "outputs": [],
   "source": [
    "# want to know where is the command binary\n",
    "# which the one needed to be used"
   ]
  },
  {
   "cell_type": "code",
   "execution_count": 6,
   "id": "b30378d2",
   "metadata": {},
   "outputs": [
    {
     "name": "stdout",
     "output_type": "stream",
     "text": [
      "/Users/nitesh/Documents/Projects/python101/env/bin/python\r\n"
     ]
    }
   ],
   "source": [
    "!which python"
   ]
  },
  {
   "cell_type": "code",
   "execution_count": 7,
   "id": "f57cf073",
   "metadata": {},
   "outputs": [],
   "source": [
    "# all downloads and installs for a user are in ~/opt/"
   ]
  },
  {
   "cell_type": "code",
   "execution_count": 8,
   "id": "f93ce568",
   "metadata": {},
   "outputs": [],
   "source": [
    "# prepending conda to path\n",
    "# # export PATH=~/opt/miniconda3/bin:$PATH"
   ]
  },
  {
   "cell_type": "code",
   "execution_count": null,
   "id": "61b29226",
   "metadata": {},
   "outputs": [],
   "source": []
  }
 ],
 "metadata": {
  "kernelspec": {
   "display_name": "Python 3 (ipykernel)",
   "language": "python",
   "name": "python3"
  },
  "language_info": {
   "codemirror_mode": {
    "name": "ipython",
    "version": 3
   },
   "file_extension": ".py",
   "mimetype": "text/x-python",
   "name": "python",
   "nbconvert_exporter": "python",
   "pygments_lexer": "ipython3",
   "version": "3.11.0"
  }
 },
 "nbformat": 4,
 "nbformat_minor": 5
}
